{
  "nbformat": 4,
  "nbformat_minor": 0,
  "metadata": {
    "colab": {
      "name": "geek_algodata_3_task.ipynb",
      "provenance": [],
      "collapsed_sections": []
    },
    "kernelspec": {
      "name": "python3",
      "display_name": "Python 3"
    }
  },
  "cells": [
    {
      "cell_type": "code",
      "metadata": {
        "id": "e13LOQ3l6cOO",
        "colab_type": "code",
        "colab": {}
      },
      "source": [
        "import numpy as np\n",
        "import matplotlib.pyplot as plt\n",
        "\n",
        "import warnings\n",
        "warnings.filterwarnings('ignore')"
      ],
      "execution_count": 0,
      "outputs": []
    },
    {
      "cell_type": "markdown",
      "metadata": {
        "id": "CGX4Szn76vHe",
        "colab_type": "text"
      },
      "source": [
        "## functions"
      ]
    },
    {
      "cell_type": "code",
      "metadata": {
        "id": "6LqZBqYC6gYm",
        "colab_type": "code",
        "colab": {}
      },
      "source": [
        "# standartization function (excl_col - columns to exclude, verd - to plot or not)\n",
        "def my_stnd(x, excl_cols=[],):\n",
        "    x_std = x.copy().astype(float)\n",
        "    for i in ([i for i in range(x_std.shape[0]) if i not in excl_cols]):\n",
        "        x_std[i] = (x[i] - x[i].mean()) / x[i].std()\n",
        "\n",
        "    return x_std\n",
        "\n",
        "# sigmoid function\n",
        "def sigmoid(z):\n",
        "    res = 1 / (1 + np.exp(-z))\n",
        "    return res\n",
        "\n",
        "# log less error\n",
        "def calc_logloss(y, y_pred):\n",
        "    err = - np.mean(y * np.log(y_pred) + (1.0 - y) * np.log(1.0 - y_pred))\n",
        "    err = np.sum(err)\n",
        "    return err\n",
        "\n",
        "# evaluate log regression model\n",
        "def eval_model_log(x, y, iterations, alpha=1e-4, verb=True):\n",
        "    np.random.seed(42)\n",
        "    w = np.random.randn(x.shape[0])\n",
        "    for i in range(1, iterations+1):\n",
        "        z = np.dot(w, x)\n",
        "        y_pred = sigmoid(z)\n",
        "        err = calc_logloss(y, y_pred)\n",
        "        w -= alpha * (1/x.shape[1] * np.dot((y_pred - y), x.T))\n",
        "        if verb == True:\n",
        "            if i % (iterations / 10) == 0:\n",
        "                print(i, w, err)\n",
        "    return w"
      ],
      "execution_count": 0,
      "outputs": []
    },
    {
      "cell_type": "markdown",
      "metadata": {
        "id": "wqbcNIk-6yO5",
        "colab_type": "text"
      },
      "source": [
        "## data upload"
      ]
    },
    {
      "cell_type": "code",
      "metadata": {
        "id": "gJCf25wE6j8h",
        "colab_type": "code",
        "colab": {}
      },
      "source": [
        "x = np.array([[1, 1, 1, 1, 1, 1, 1, 1, 1, 1],\n",
        "              [1, 1, 2, 1, 3, 0, 5, 10, 1, 2],\n",
        "              [500, 700, 750, 600, 1450, 800, 1500, 2000, 450, 1000],\n",
        "              [1, 1, 2, 1, 2, 1, 3, 3, 1, 2]])\n",
        "\n",
        "y = np.array([0, 0, 1, 0, 1, 0, 1, 0, 1, 1], dtype = np.float64)"
      ],
      "execution_count": 0,
      "outputs": []
    },
    {
      "cell_type": "markdown",
      "metadata": {
        "id": "XIipHHEY9aBs",
        "colab_type": "text"
      },
      "source": [
        "## build, fit & predict"
      ]
    },
    {
      "cell_type": "code",
      "metadata": {
        "id": "q4LEbkWZY5Mj",
        "colab_type": "code",
        "outputId": "8ac265f4-4607-4ec2-b8aa-eedeb3a7b8a4",
        "colab": {
          "base_uri": "https://localhost:8080/",
          "height": 204
        }
      },
      "source": [
        "eval_model_log(my_stnd(x, [0, 1, 3]), y, iterations=1000, alpha=1e-4)"
      ],
      "execution_count": 15,
      "outputs": [
        {
          "output_type": "stream",
          "text": [
            "100 [ 0.49282748 -0.15007528  0.64748973  1.51727915] 1.2014814214705334\n",
            "200 [ 0.48896219 -0.16184918  0.64728128  1.51155738] 1.1828456288538924\n",
            "300 [ 0.48511874 -0.17358386  0.64706349  1.50586552] 1.1643525542846556\n",
            "400 [ 0.4812976  -0.18527698  0.64683669  1.50020462] 1.1460086359433084\n",
            "500 [ 0.47749927 -0.19692597  0.64660127  1.4945758 ] 1.127820879406358\n",
            "600 [ 0.47372426 -0.20852799  0.6463577   1.48898028] 1.109796908143704\n",
            "700 [ 0.46997312 -0.22007992  0.6461065   1.48341934] 1.0919450148769096\n",
            "800 [ 0.46624642 -0.23157833  0.64584825  1.47789438] 1.074274212586137\n",
            "900 [ 0.46254476 -0.24301946  0.64558365  1.4724069 ] 1.0567942835649755\n",
            "1000 [ 0.45886878 -0.25439917  0.64531344  1.46695851] 1.0395158244739489\n"
          ],
          "name": "stdout"
        },
        {
          "output_type": "execute_result",
          "data": {
            "text/plain": [
              "array([ 0.45886878, -0.25439917,  0.64531344,  1.46695851])"
            ]
          },
          "metadata": {
            "tags": []
          },
          "execution_count": 15
        }
      ]
    },
    {
      "cell_type": "code",
      "metadata": {
        "id": "ykev0NSmYYJg",
        "colab_type": "code",
        "outputId": "fbd432d8-0ab6-47a9-d1df-1ba902316a0c",
        "colab": {
          "base_uri": "https://localhost:8080/",
          "height": 204
        }
      },
      "source": [
        "eval_model_log(my_stnd(x, [0]), y, iterations=1000, alpha=1e-4)"
      ],
      "execution_count": 16,
      "outputs": [
        {
          "output_type": "stream",
          "text": [
            "100 [ 0.49635335 -0.14077362  0.64537112  1.52180639] 0.7625324736043118\n",
            "200 [ 0.49598986 -0.14327981  0.64305753  1.52058688] 0.7612071473029914\n",
            "300 [ 0.49562367 -0.14578284  0.64074779  1.51937134] 0.7598859435316546\n",
            "400 [ 0.49525481 -0.14828271  0.63844189  1.51815977] 0.7585688613630801\n",
            "500 [ 0.49488327 -0.15077942  0.63613984  1.51695219] 0.7572558998540831\n",
            "600 [ 0.49450906 -0.15327296  0.63384165  1.51574858] 0.7559470580458482\n",
            "700 [ 0.4941322  -0.15576332  0.63154733  1.51454897] 0.7546423349642396\n",
            "800 [ 0.49375269 -0.1582505   0.62925688  1.51335335] 0.7533417296201084\n",
            "900 [ 0.49337053 -0.16073448  0.62697031  1.51216173] 0.7520452410095869\n",
            "1000 [ 0.49298574 -0.16321527  0.62468762  1.51097412] 0.7507528681143767\n"
          ],
          "name": "stdout"
        },
        {
          "output_type": "execute_result",
          "data": {
            "text/plain": [
              "array([ 0.49298574, -0.16321527,  0.62468762,  1.51097412])"
            ]
          },
          "metadata": {
            "tags": []
          },
          "execution_count": 16
        }
      ]
    },
    {
      "cell_type": "markdown",
      "metadata": {
        "id": "CqqZ1dMbW6cN",
        "colab_type": "text"
      },
      "source": [
        "##1*. Измените функцию calc_logloss так, чтобы нули по возможности не попадали в np.log. "
      ]
    },
    {
      "cell_type": "markdown",
      "metadata": {
        "id": "uup4CJ9CZNgb",
        "colab_type": "text"
      },
      "source": [
        "варианта - два:\n",
        "\n",
        "1. применить отклонение на минимальное число (1e-15)\n",
        "\n",
        "2. использовать логические выражения"
      ]
    },
    {
      "cell_type": "code",
      "metadata": {
        "id": "hG8AJtXPMhOM",
        "colab_type": "code",
        "outputId": "6584455a-a563-4632-8dd8-26654ffc5f38",
        "colab": {
          "base_uri": "https://localhost:8080/",
          "height": 204
        }
      },
      "source": [
        "# log less error to avoid np.log(0)\n",
        "## option 1\n",
        "def calc_logloss(y, y_pred):\n",
        "    err = - np.mean(y * np.log(y_pred + 1e-15) + (1.0 - y) * np.log(1.0 - y_pred + 1e-15))\n",
        "    err = np.sum(err)\n",
        "    return err\n",
        "\n",
        "# log less error to avoid np.log(0)\n",
        "## option 2\n",
        "def calc_logloss(y, y_pred):\n",
        "    y_logic = y == 1\n",
        "    err = sum(-np.log(y_pred[y_logic])) + sum(-np.log(1 - y_pred[~y_logic]))\n",
        "    # err = - np.mean(y * np.log(y_pred[t]) + (1.0 - y) * np.log(1.0 - y_pred[~t]))\n",
        "    # err = np.sum(err)\n",
        "    return err\n",
        "\n",
        "# evaluate log regression model\n",
        "def eval_model_log(x, y, iterations, alpha=1e-4, verb=True):\n",
        "    np.random.seed(42)\n",
        "    w = np.random.randn(x.shape[0])\n",
        "    for i in range(1, iterations+1):\n",
        "        z = np.dot(w, x)\n",
        "        y_pred = sigmoid(z)\n",
        "        err = calc_logloss(y, y_pred)\n",
        "        w -= alpha * (1/x.shape[1] * np.dot((y_pred - y), x.T))\n",
        "        if verb == True:\n",
        "            if i % (iterations / 10) == 0:\n",
        "                print(i, w, err)\n",
        "    return w\n",
        "\n",
        "eval_model_log(my_stnd(x, [0]), y, iterations=1000, alpha=1e-4)"
      ],
      "execution_count": 17,
      "outputs": [
        {
          "output_type": "stream",
          "text": [
            "100 [ 0.49635335 -0.14077362  0.64537112  1.52180639] 7.625324736043117\n",
            "200 [ 0.49598986 -0.14327981  0.64305753  1.52058688] 7.612071473029914\n",
            "300 [ 0.49562367 -0.14578284  0.64074779  1.51937134] 7.598859435316546\n",
            "400 [ 0.49525481 -0.14828271  0.63844189  1.51815977] 7.5856886136308\n",
            "500 [ 0.49488327 -0.15077942  0.63613984  1.51695219] 7.572558998540831\n",
            "600 [ 0.49450906 -0.15327296  0.63384165  1.51574858] 7.559470580458482\n",
            "700 [ 0.4941322  -0.15576332  0.63154733  1.51454897] 7.546423349642396\n",
            "800 [ 0.49375269 -0.1582505   0.62925688  1.51335335] 7.533417296201085\n",
            "900 [ 0.49337053 -0.16073448  0.62697031  1.51216173] 7.520452410095871\n",
            "1000 [ 0.49298574 -0.16321527  0.62468762  1.51097412] 7.507528681143767\n"
          ],
          "name": "stdout"
        },
        {
          "output_type": "execute_result",
          "data": {
            "text/plain": [
              "array([ 0.49298574, -0.16321527,  0.62468762,  1.51097412])"
            ]
          },
          "metadata": {
            "tags": []
          },
          "execution_count": 17
        }
      ]
    },
    {
      "cell_type": "markdown",
      "metadata": {
        "id": "jc5C7O5mnqiZ",
        "colab_type": "text"
      },
      "source": [
        "#2. Подберите аргументы функции eval_model для логистической регрессии таким образом, чтобы log loss был минимальным."
      ]
    },
    {
      "cell_type": "code",
      "metadata": {
        "id": "HsBN0IcwnrpF",
        "colab_type": "code",
        "outputId": "d7115a8a-492d-40ab-a198-32beddc4d218",
        "colab": {
          "base_uri": "https://localhost:8080/",
          "height": 119
        }
      },
      "source": [
        "# evaluate log regression model\n",
        "iterations = [100, 1000, 10000,  100000]\n",
        "alphas = [1e-5, 1e-4, 1e-3, 1e-2]\n",
        "\n",
        "def eval_model_logGrid(x, y, iterations, alphas):\n",
        "    hist = []\n",
        "    for n_iteration in iterations:\n",
        "        for alpha in alphas:\n",
        "            # print(n_iteration)\n",
        "            np.random.seed(42)\n",
        "            w = np.random.randn(x.shape[0])\n",
        "            for i in range(1, n_iteration+1):\n",
        "                z = np.dot(w, x)\n",
        "                y_pred = sigmoid(z)\n",
        "                err = calc_logloss(y, y_pred)\n",
        "                w -= alpha * (1/x.shape[1] * np.dot((y_pred - y), x.T))\n",
        "                if i % (n_iteration / 10) == 0:\n",
        "                    hist.append([n_iteration, i, alpha, w, err])\n",
        "    res = hist[np.argmax([hist[i][4] for i in range(len(hist))])]\n",
        "    print(\n",
        "        'best_result:'\n",
        "        f'\\nnumber_of_iterations / iteration No: {res[0], res[1]}', \n",
        "        f'\\nalpha applied: {res[2]}',\n",
        "        f'\\nweights obtained: {res[3]}'\n",
        "        f'\\nerror: {res[4]}',     \n",
        "    )\n",
        "\n",
        "    return res[3]\n",
        "\n",
        "eval_model_logGrid(my_stnd(x, [0]), y, iterations, alphas)"
      ],
      "execution_count": 18,
      "outputs": [
        {
          "output_type": "stream",
          "text": [
            "best_result:\n",
            "number_of_iterations / iteration No: (100, 10) \n",
            "alpha applied: 1e-05 \n",
            "weights obtained: [ 0.49667819 -0.13851537  0.64745663  1.52290733]\n",
            "error: 7.638366254510217\n"
          ],
          "name": "stdout"
        },
        {
          "output_type": "execute_result",
          "data": {
            "text/plain": [
              "array([ 0.49667819, -0.13851537,  0.64745663,  1.52290733])"
            ]
          },
          "metadata": {
            "tags": []
          },
          "execution_count": 18
        }
      ]
    },
    {
      "cell_type": "markdown",
      "metadata": {
        "id": "WZmEI0t1Gnht",
        "colab_type": "text"
      },
      "source": [
        "#3. Создайте функцию calc_pred_proba, возвращающую предсказанную вероятность класса 1 (на вход подаются W, который уже посчитан функцией eval_model и X, на выходе - массив y_pred_proba)."
      ]
    },
    {
      "cell_type": "code",
      "metadata": {
        "id": "dNMXyh3OGtUh",
        "colab_type": "code",
        "outputId": "d559d76d-1a52-44bd-8518-be4d5231cddb",
        "colab": {
          "base_uri": "https://localhost:8080/",
          "height": 51
        }
      },
      "source": [
        "# returns prediction probabilities for the log regression model\n",
        "def model_log_proba(x, w):\n",
        "    z = np.dot(w, x)\n",
        "    y_pred_proba = sigmoid(z)\n",
        "    return y_pred_proba\n",
        "\n",
        "model_log_proba(\n",
        "    my_stnd(x, [0]),\n",
        "    eval_model_log(my_stnd(x, [0]), y, 1000, alpha=1e-4, verb=False)\n",
        ")"
      ],
      "execution_count": 19,
      "outputs": [
        {
          "output_type": "execute_result",
          "data": {
            "text/plain": [
              "array([0.20102364, 0.245594  , 0.69391285, 0.22251326, 0.8405047 ,\n",
              "       0.28188495, 0.97192569, 0.98010348, 0.19087675, 0.75778041])"
            ]
          },
          "metadata": {
            "tags": []
          },
          "execution_count": 19
        }
      ]
    },
    {
      "cell_type": "markdown",
      "metadata": {
        "id": "PXoYBxl2aMvf",
        "colab_type": "text"
      },
      "source": [
        "## 4. Создайте функцию calc_pred, возвращающую предсказанный класс (на вход подаются W, который уже посчитан функцией eval_model и X, на выходе - массив y_pred)."
      ]
    },
    {
      "cell_type": "code",
      "metadata": {
        "id": "4Uog2aFeaTB6",
        "colab_type": "code",
        "outputId": "8f5cd5fb-7ad9-45f4-b47b-6cf4d4ecd3bc",
        "colab": {
          "base_uri": "https://localhost:8080/",
          "height": 34
        }
      },
      "source": [
        "# returns prediction for the log regression model\n",
        "def model_log_pred(x, w):\n",
        "    z = np.dot(w, x)\n",
        "    y_pred_proba = sigmoid(z)\n",
        "    y_pred = np.where(y_pred_proba >= 0.5, 1, 0)\n",
        "    return np.array(y_pred)\n",
        "\n",
        "model_log_pred(\n",
        "    my_stnd(x, [0]),\n",
        "    eval_model_log(my_stnd(x, [0]), y, 1000, alpha=1e-4, verb=False)\n",
        ")"
      ],
      "execution_count": 20,
      "outputs": [
        {
          "output_type": "execute_result",
          "data": {
            "text/plain": [
              "array([0, 0, 1, 0, 1, 0, 1, 1, 0, 1])"
            ]
          },
          "metadata": {
            "tags": []
          },
          "execution_count": 20
        }
      ]
    },
    {
      "cell_type": "markdown",
      "metadata": {
        "id": "KuGgGbXEbjSO",
        "colab_type": "text"
      },
      "source": [
        "#5. Посчитайте Accuracy, матрицу ошибок, точность и полноту, а также F1 score."
      ]
    },
    {
      "cell_type": "code",
      "metadata": {
        "id": "fxthe13_a0J7",
        "colab_type": "code",
        "outputId": "7b886180-068a-4feb-f0bd-b5aec31924c0",
        "colab": {
          "base_uri": "https://localhost:8080/",
          "height": 204
        }
      },
      "source": [
        "# metrics for the binary classification\n",
        "def my_metrics(y, y_pred):\n",
        "    tp, fp, tn, fn = 0, 0, 0, 0\n",
        "    for i in range(len(y_pred)):\n",
        "        if y_pred[i] == y[i] == 1:\n",
        "            tp += 1\n",
        "        if y_pred[i] == y[i] == 0:\n",
        "            tn += 1\n",
        "        if y_pred[i] == 1 and y[i] == 0:\n",
        "            fp += 1\n",
        "        if y_pred[i] == 0 and y[i] == 1:\n",
        "            fn += 1\n",
        "    prec = tp / (tp + fp)\n",
        "    rec = tp / (tp + fn)\n",
        "    accur = (tp + tn) / (tp + tn + fp + fn)\n",
        "    f_1 = (2 * prec * rec) / (prec + rec)\n",
        "\n",
        "    print(f'confusion_matrix: \\n{np.array([[tn, fp], [fn, tp]])}',\n",
        "            f'\\n\\naccuracy: {accur}',\n",
        "            f'\\n\\nprecision: {prec}',\n",
        "            f'\\n\\nrecall: {rec}',\n",
        "            f'\\n\\nf1_score: {f_1}'  \n",
        "    )\n",
        "\n",
        "my_predictions = model_log_pred(\n",
        "    my_stnd(x, [0]),\n",
        "    eval_model_log(my_stnd(x, [0]), y, 1000, alpha=1e-4, verb=False)\n",
        ")\n",
        "\n",
        "my_metrics(y, my_predictions)      "
      ],
      "execution_count": 21,
      "outputs": [
        {
          "output_type": "stream",
          "text": [
            "confusion_matrix: \n",
            "[[4 1]\n",
            " [1 4]] \n",
            "\n",
            "accuracy: 0.8 \n",
            "\n",
            "precision: 0.8 \n",
            "\n",
            "recall: 0.8 \n",
            "\n",
            "f1_score: 0.8000000000000002\n"
          ],
          "name": "stdout"
        }
      ]
    },
    {
      "cell_type": "markdown",
      "metadata": {
        "id": "AmmvNKjieL18",
        "colab_type": "text"
      },
      "source": [
        "#6. Могла ли модель переобучиться? Почему?"
      ]
    },
    {
      "cell_type": "markdown",
      "metadata": {
        "id": "_861AC8PmLfx",
        "colab_type": "text"
      },
      "source": [
        "Высокая вероятность, что модель может переобучиться, т.к. очень мало данных для такого типа задач. Можно было бы попробовать трейн тест плит, но данных и так почти нет."
      ]
    },
    {
      "cell_type": "markdown",
      "metadata": {
        "id": "_6bMw6kD-6UZ",
        "colab_type": "text"
      },
      "source": [
        "#7*. Создайте функции eval_model_l1 и eval_model_l2 с применением L1 и L2 регуляризаций соответственно."
      ]
    },
    {
      "cell_type": "code",
      "metadata": {
        "id": "nwJMV_hb-8oJ",
        "colab_type": "code",
        "colab": {
          "base_uri": "https://localhost:8080/",
          "height": 204
        },
        "outputId": "cbad6bd6-9637-4188-934b-75e565c37a80"
      },
      "source": [
        "# evaluate log regression model with l1 regularization\n",
        "def eval_model_logL1(x, y, iterations, alpha=1e-4, verb=True, lambda_=1e-7):\n",
        "    np.random.seed(42)\n",
        "    w = np.random.randn(x.shape[0])\n",
        "    for i in range(1, iterations+1):\n",
        "        z = np.dot(w, x)\n",
        "        y_pred = sigmoid(z)\n",
        "        err = calc_logloss(y, y_pred)\n",
        "        w -= alpha * (1/x.shape[1] * np.dot((y_pred - y), x.T) + lambda_ * np.sign(w))\n",
        "        if verb == True:\n",
        "            if i % (iterations / 10) == 0:\n",
        "                print(i, w, err)\n",
        "    return w\n",
        "\n",
        "eval_model_logL1(my_stnd(x, [0]), y, iterations=10000)"
      ],
      "execution_count": 28,
      "outputs": [
        {
          "output_type": "stream",
          "text": [
            "1000 [ 0.49298573 -0.16321526  0.62468761  1.51097411] 7.507528667525403\n",
            "2000 [ 0.48899468 -0.18784543  0.60207599  1.49931954] 7.380552670132875\n",
            "3000 [ 0.48474948 -0.21214733  0.57986044  1.48807154] 7.25768020651282\n",
            "4000 [ 0.48025951 -0.23611314  0.55804771  1.47723531] 7.138899028528378\n",
            "5000 [ 0.47553505 -0.25973475  0.53664459  1.46681588] 7.024195737372683\n",
            "6000 [ 0.47058717 -0.28300375  0.51565787  1.4568181 ] 6.913555697159579\n",
            "7000 [ 0.46542777 -0.30591144  0.49509434  1.4472466 ] 6.80696278750619\n",
            "8000 [ 0.46006948 -0.32844886  0.47496075  1.43810583] 6.7043989899544805\n",
            "9000 [ 0.45452558 -0.35060686  0.45526377  1.42939996] 6.605843811327838\n",
            "10000 [ 0.44880998 -0.37237615  0.43600992  1.42113292] 6.511273556614789\n"
          ],
          "name": "stdout"
        },
        {
          "output_type": "execute_result",
          "data": {
            "text/plain": [
              "array([ 0.44880998, -0.37237615,  0.43600992,  1.42113292])"
            ]
          },
          "metadata": {
            "tags": []
          },
          "execution_count": 28
        }
      ]
    },
    {
      "cell_type": "code",
      "metadata": {
        "id": "n2TCsCqpOAnv",
        "colab_type": "code",
        "colab": {
          "base_uri": "https://localhost:8080/",
          "height": 204
        },
        "outputId": "5a1fa92f-058f-41cf-b1ae-4044b8b04042"
      },
      "source": [
        "# evaluate log regression model with l2 regularization\n",
        "def eval_model_logL2(x, y, iterations, alpha=1e-4, verb=True, lambda_=1e-7):\n",
        "    np.random.seed(42)\n",
        "    w = np.random.randn(x.shape[0])\n",
        "    for i in range(1, iterations+1):\n",
        "        z = np.dot(w, x)\n",
        "        y_pred = sigmoid(z)\n",
        "        err = calc_logloss(y, y_pred)\n",
        "        w -= alpha * (1/x.shape[1] * np.dot((y_pred - y), x.T) + lambda_ * w)\n",
        "        if verb == True:\n",
        "            if i % (iterations / 10) == 0:\n",
        "                print(i, w, err)\n",
        "    return w\n",
        "\n",
        "eval_model_logL2(my_stnd(x, [0]), y, iterations=10000)"
      ],
      "execution_count": 27,
      "outputs": [
        {
          "output_type": "stream",
          "text": [
            "1000 [ 0.49298573 -0.16321526  0.62468761  1.5109741 ] 7.507528650837847\n",
            "2000 [ 0.48899469 -0.18784545  0.602076    1.49931953] 7.380552639390054\n",
            "3000 [ 0.48474949 -0.21214735  0.57986045  1.48807152] 7.25768016424499\n",
            "4000 [ 0.48025953 -0.23611317  0.55804772  1.47723529] 7.138898977141788\n",
            "5000 [ 0.47553507 -0.25973479  0.53664461  1.46681586] 7.024195679146119\n",
            "6000 [ 0.4705872  -0.2830038   0.5156579   1.45681807] 6.913555634241091\n",
            "7000 [ 0.4654278  -0.30591149  0.49509437  1.44724657] 6.806962721910173\n",
            "8000 [ 0.46006951 -0.32844892  0.47496079  1.43810579] 6.704398923558818\n",
            "9000 [ 0.45452562 -0.35060693  0.45526381  1.42939993] 6.605843745871393\n",
            "10000 [ 0.44881002 -0.37237622  0.43600997  1.42113288] 6.511273493695039\n"
          ],
          "name": "stdout"
        },
        {
          "output_type": "execute_result",
          "data": {
            "text/plain": [
              "array([ 0.44881002, -0.37237622,  0.43600997,  1.42113288])"
            ]
          },
          "metadata": {
            "tags": []
          },
          "execution_count": 27
        }
      ]
    }
  ]
}