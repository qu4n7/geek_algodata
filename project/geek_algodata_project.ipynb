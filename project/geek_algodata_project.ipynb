{
  "nbformat": 4,
  "nbformat_minor": 0,
  "metadata": {
    "colab": {
      "name": "geek_algodata_project.ipynb",
      "provenance": [],
      "collapsed_sections": []
    },
    "kernelspec": {
      "name": "python3",
      "display_name": "Python 3"
    },
    "accelerator": "GPU"
  },
  "cells": [
    {
      "cell_type": "markdown",
      "metadata": {
        "id": "92H_bUKo1NNB",
        "colab_type": "text"
      },
      "source": [
        "приветствую! взял проект по классификации. мой профиль https://www.kaggle.com/nrobxam (gleb kabanov)\n",
        "\n",
        "ссылка на гит - \n",
        "\n",
        "сам проект зафейлил, хотя через бенчмарк прошел. в начале потерял время на попытке сделать xgboost без вызова, как мы делали на занятии, склерна - неуспешно. \n",
        "\n",
        "Я был бы очень благодарен, если бы кто нибудь смог скинуть мне ссылку / скрипт как сделать его без вызова библиотек - очень много времени потерял, в инете пусто, голову сломал.\n",
        "\n",
        "далее пробовал прописать-запустить нейронку без либ - получилось разобраться с размерностью, но точность низкая. кол-во слоев, гиперпараметры тоже не помогли. а жаль, была ставка на нее.\n",
        "\n",
        "сделал балансировку выборки - НН тоже не взлетела.\n",
        "\n",
        "в конце быстро запустил случайный лес - на сбалансированной выборке прошел бенчмарк."
      ]
    },
    {
      "cell_type": "code",
      "metadata": {
        "id": "iWO58um-MsqT",
        "colab_type": "code",
        "colab": {}
      },
      "source": [
        "import numpy as np\n",
        "import random\n",
        "import matplotlib.pyplot as plt\n",
        "from sklearn.model_selection import train_test_split\n",
        "\n",
        "from google.colab import drive"
      ],
      "execution_count": 0,
      "outputs": []
    },
    {
      "cell_type": "code",
      "metadata": {
        "id": "ReY7YUsBgyWP",
        "colab_type": "code",
        "outputId": "14019d9b-1f7b-4083-81e2-cebbff4127f4",
        "colab": {
          "base_uri": "https://localhost:8080/",
          "height": 122
        }
      },
      "source": [
        "drive.mount('/content/my_drive')"
      ],
      "execution_count": 3,
      "outputs": [
        {
          "output_type": "stream",
          "text": [
            "Go to this URL in a browser: https://accounts.google.com/o/oauth2/auth?client_id=947318989803-6bn6qk8qdgf4n4g3pfee6491hc0brc4i.apps.googleusercontent.com&redirect_uri=urn%3aietf%3awg%3aoauth%3a2.0%3aoob&response_type=code&scope=email%20https%3a%2f%2fwww.googleapis.com%2fauth%2fdocs.test%20https%3a%2f%2fwww.googleapis.com%2fauth%2fdrive%20https%3a%2f%2fwww.googleapis.com%2fauth%2fdrive.photos.readonly%20https%3a%2f%2fwww.googleapis.com%2fauth%2fpeopleapi.readonly\n",
            "\n",
            "Enter your authorization code:\n",
            "··········\n",
            "Mounted at /content/my_drive\n"
          ],
          "name": "stdout"
        }
      ]
    },
    {
      "cell_type": "markdown",
      "metadata": {
        "id": "t13r2Tz6gkzM",
        "colab_type": "text"
      },
      "source": [
        "## data upload"
      ]
    },
    {
      "cell_type": "code",
      "metadata": {
        "id": "NnT8SLBakx7s",
        "colab_type": "code",
        "outputId": "d4fd5be5-5119-4213-8d29-24b9284ff74b",
        "colab": {
          "base_uri": "https://localhost:8080/",
          "height": 207
        }
      },
      "source": [
        "!pip install -q kaggle\n",
        "!mkdir -p ~/.kaggle\n",
        "!cp 'my_drive/My Drive/Colab Notebooks/kaggle.json' ~/.kaggle/\n",
        "!kaggle competitions download -c choose-tutors"
      ],
      "execution_count": 4,
      "outputs": [
        {
          "output_type": "stream",
          "text": [
            "Warning: Looks like you're using an outdated API Version, please consider updating (server 1.5.6 / client 1.5.4)\n",
            "Downloading submission_example.csv to /content\n",
            "  0% 0.00/107k [00:00<?, ?B/s]\n",
            "100% 107k/107k [00:00<00:00, 41.6MB/s]\n",
            "Downloading train.csv to /content\n",
            "  0% 0.00/555k [00:00<?, ?B/s]\n",
            "100% 555k/555k [00:00<00:00, 77.3MB/s]\n",
            "Downloading test.csv to /content\n",
            "  0% 0.00/547k [00:00<?, ?B/s]\n",
            "100% 547k/547k [00:00<00:00, 75.5MB/s]\n"
          ],
          "name": "stdout"
        }
      ]
    },
    {
      "cell_type": "code",
      "metadata": {
        "colab_type": "code",
        "id": "7AsWv-Y_c8CJ",
        "colab": {}
      },
      "source": [
        "train_data = np.genfromtxt('train.csv', delimiter=',')\n",
        "train_data = train_data[1:, :]\n",
        "test_data = np.genfromtxt('test.csv', delimiter=',')\n",
        "test_data = test_data[1:, :]"
      ],
      "execution_count": 0,
      "outputs": []
    },
    {
      "cell_type": "code",
      "metadata": {
        "id": "FWviX4UHYf6m",
        "colab_type": "code",
        "colab": {}
      },
      "source": [
        "x = train_data[:,:-1]\n",
        "y = train_data[:, -1]\n",
        "x_train, x_test, y_train, y_test = train_test_split(x, y, test_size = 0.2)"
      ],
      "execution_count": 0,
      "outputs": []
    },
    {
      "cell_type": "code",
      "metadata": {
        "id": "9tDf-udMdTRR",
        "colab_type": "code",
        "outputId": "567b472d-53b7-4eae-f2ab-0b5f051d1d0f",
        "colab": {
          "base_uri": "https://localhost:8080/",
          "height": 51
        }
      },
      "source": [
        "print(train_data[np.where(train_data[:, -1]== 1)].shape)\n",
        "print(train_data[np.where(train_data[:, -1]== 0)].shape)"
      ],
      "execution_count": 8,
      "outputs": [
        {
          "output_type": "stream",
          "text": [
            "(1109, 13)\n",
            "(8891, 13)\n"
          ],
          "name": "stdout"
        }
      ]
    },
    {
      "cell_type": "markdown",
      "metadata": {
        "id": "xh0yePSQ6_hU",
        "colab_type": "text"
      },
      "source": [
        "# случайный лес"
      ]
    },
    {
      "cell_type": "code",
      "metadata": {
        "id": "Ktwt2lIEydL-",
        "colab_type": "code",
        "colab": {}
      },
      "source": [
        "def get_bootstrap(data, labels, n):\n",
        "    n_samples = data.shape[0]\n",
        "    bootstrap = []\n",
        "\n",
        "    # by rows in the sample\n",
        "    for i in range(n):\n",
        "        b_data = np.zeros(data.shape)\n",
        "        b_labels = np.zeros(labels.shape)\n",
        "        # by columns in the sample \n",
        "        for j in range(n_samples):\n",
        "            # shuffling index by random\n",
        "            sample_index = random.randint(0, n_samples-1)\n",
        "            b_data[j] = data[sample_index]\n",
        "            b_labels[j] = labels[sample_index]\n",
        "        \n",
        "        bootstrap.append((b_data, b_labels))\n",
        "\n",
        "    return bootstrap\n",
        "\n",
        "def get_subsample(len_sample):\n",
        "    # list of indixes from zero to len\n",
        "    sample_indices = [i for i in range(len_sample)]\n",
        "    # length of subsample as sqr root of the whole length\n",
        "    len_subsample = int(np.sqrt(len_sample))\n",
        "    subsample = []\n",
        "    # shuffling the indices of the sample\n",
        "    random.shuffle(sample_indices)\n",
        "\n",
        "    for i in range(len_subsample):\n",
        "        subsample.append(sample_indices.pop())\n",
        "\n",
        "    return subsample\n",
        "\n",
        "class Node:\n",
        "    def __init__(self, index, t, true_branch, false_branch):\n",
        "        self.index = index # index of the feature comapred to threshold\n",
        "        self.t = t # threshold value\n",
        "        self.true_branch = true_branch # subsample in compliance with the condition in the node\n",
        "        self.false_branch = false_branch # subsample not in compliance with the condition in the node\n",
        "\n",
        "# base case node == leaf\n",
        "class Leaf:\n",
        "    def __init__(self, data, labels):\n",
        "        self.data = data\n",
        "        self.labels = labels\n",
        "        self.prediction = self.predict()\n",
        "\n",
        "    def predict(self):\n",
        "        # qaunt of the objects of various classes\n",
        "        classes = {}\n",
        "        for label in self.labels:\n",
        "            if label not in classes:\n",
        "                classes[label] = 0\n",
        "            classes[label] += 1\n",
        "        prediction = max(classes, key=classes.get)\n",
        "\n",
        "        return prediction\n",
        "\n",
        "def gini(labels):\n",
        "    classes = {}\n",
        "    for label in labels:\n",
        "        if label not in classes:\n",
        "            classes[label] = 0\n",
        "        classes[label] += 1\n",
        "\n",
        "    impurity = 1\n",
        "    for label in classes:\n",
        "        p = classes[label] / len(labels)\n",
        "        impurity -= p ** 2\n",
        "\n",
        "    return impurity\n",
        "\n",
        "# calc the quality \n",
        "def quality(left_labels, right_labels, current_gini):\n",
        "    # samples elements in the left subtree\n",
        "    p = float(left_labels.shape[0]) / (left_labels.shape[0] + right_labels.shape[0])\n",
        "\n",
        "    return current_gini - p * gini(left_labels) - (1 - p) * gini(right_labels)\n",
        "\n",
        "# splitting dataset in the node\n",
        "def split(data, labels, index, t):\n",
        "\n",
        "    left = np.where(data[:, index] <= t)\n",
        "    right = np.where(data[:, index] > t)\n",
        "\n",
        "    true_data = data[left]\n",
        "    false_data = data[right]\n",
        "    true_labels = labels[left]\n",
        "    false_labels = labels[right]\n",
        "\n",
        "    return true_data, false_data, true_labels, false_labels\n",
        "\n",
        "def find_best_split(data, labels):\n",
        "\n",
        "    # min quant of objects in the node\n",
        "    min_leaf = 1\n",
        "\n",
        "    current_gini = gini(labels)\n",
        "\n",
        "    best_quality, best_t, best_index = 0, None, None\n",
        "\n",
        "    n_features = data.shape[1]\n",
        "\n",
        "    # subsample size = sq root of the sample size\n",
        "    subsample = get_subsample(n_features)\n",
        "\n",
        "    for index in subsample:\n",
        "        # getting only unique values of a feature\n",
        "        t_values = np.unique([row[index] for row in data])\n",
        "\n",
        "        for t in t_values:\n",
        "            true_data, false_data, true_labels, false_labels = split(data, labels, index, t)\n",
        "            # skipping splits with less than 5 objects within\n",
        "            if len(true_data) < min_leaf or len(false_data) < min_leaf:\n",
        "                continue\n",
        "            \n",
        "            current_quality = quality(true_labels, false_labels, current_gini)\n",
        "\n",
        "            # getting threshold with the max increase in quality\n",
        "            if current_quality > best_quality:\n",
        "                best_quality, best_t, best_index = current_quality, t, index\n",
        "\n",
        "    return best_quality, best_t, best_index\n",
        "\n",
        "def build_tree(data, labels):\n",
        "    quality, t, index = find_best_split(data, labels)\n",
        "\n",
        "    # base case if not quality increase\n",
        "    if quality == 0:\n",
        "        return Leaf(data, labels)\n",
        "\n",
        "    true_data, false_data, true_labels, false_labels = split(data, labels, index, t)\n",
        "\n",
        "    # building true & false subtrees recursively\n",
        "    true_branch = build_tree(true_data, true_labels)\n",
        "    false_branch = build_tree(false_data, false_labels)\n",
        "\n",
        "    return Node(index, t, true_branch, false_branch)\n",
        "\n",
        "# building random forest\n",
        "def random_forest(data, labels, n_trees):\n",
        "    forest = []\n",
        "    bootstrap = get_bootstrap(data, labels, n_trees)\n",
        "\n",
        "    for b_data, b_labels in bootstrap:\n",
        "        forest.append(build_tree(b_data, b_labels))\n",
        "\n",
        "    return forest\n",
        "\n",
        "# classification function\n",
        "def classify_object(obj, node):\n",
        "\n",
        "    if isinstance(node, Leaf):\n",
        "        answer = node.prediction\n",
        "        return answer\n",
        "\n",
        "    if obj[node.index] <= node.t:\n",
        "        return classify_object(obj, node.true_branch)\n",
        "    else:\n",
        "        return classify_object(obj, node.false_branch)\n",
        "\n",
        "# prediction for the sample by one tree\n",
        "def predict(data, tree):\n",
        "\n",
        "    classes = []\n",
        "    for obj in data:\n",
        "        prediction = classify_object(obj, tree)\n",
        "        classes.append(prediction)\n",
        "\n",
        "    return classes\n",
        "\n",
        "# prediction by trees' vote\n",
        "def tree_vote(forest, data):\n",
        "\n",
        "    # all prediction in a list\n",
        "    predictions = []\n",
        "    for tree in forest:\n",
        "        predictions.append(predict(data, tree))\n",
        "\n",
        "    # list with predictions for the each of the objects\n",
        "    predictions_per_object = list(zip(*predictions))\n",
        "\n",
        "    # the preidction with the most of votes\n",
        "    voted_predictions = []\n",
        "    for obj in predictions_per_object:\n",
        "        voted_predictions.append(max(set(obj), key=obj.count))\n",
        "\n",
        "    return voted_predictions\n",
        "\n",
        "def accuracy_metric(actual, predicted):\n",
        "    correct = 0\n",
        "    for i in range(len(actual)):\n",
        "        if actual[i] == predicted[i]:\n",
        "            correct += 1\n",
        "    return correct / float(len(actual)) * 100.0\n"
      ],
      "execution_count": 0,
      "outputs": []
    },
    {
      "cell_type": "code",
      "metadata": {
        "id": "4qu5YxpO7peV",
        "colab_type": "code",
        "colab": {
          "base_uri": "https://localhost:8080/",
          "height": 323
        },
        "outputId": "c0860839-f31f-44e1-80cc-f1e15a57df6d"
      },
      "source": [
        "# testing various quantity of trees\n",
        "trees_quant = [5, 7, 10, 13, 15, 20]\n",
        "for tree_numb in trees_quant:\n",
        "    my_model = random_forest(x_train, y_train, tree_numb)\n",
        "    train_answers = tree_vote(my_model, x_train)\n",
        "    print(tree_numb,':')\n",
        "    print(f'accuracy @train: {accuracy_metric(y_test, train_answers)}')\n",
        "    y_pred = tree_vote(my_model, x_test)\n",
        "    print(f'accuracy @test: {accuracy_metric(y_test, y_pred)}')"
      ],
      "execution_count": 19,
      "outputs": [
        {
          "output_type": "stream",
          "text": [
            "5 :\n",
            "accuracy @train: 82.15\n",
            "accuracy @test: 88.5\n",
            "7 :\n",
            "accuracy @train: 83.35000000000001\n",
            "accuracy @test: 89.35\n",
            "10 :\n",
            "accuracy @train: 83.5\n",
            "accuracy @test: 89.14999999999999\n",
            "13 :\n",
            "accuracy @train: 82.19999999999999\n",
            "accuracy @test: 89.2\n",
            "15 :\n",
            "accuracy @train: 82.65\n",
            "accuracy @test: 88.94999999999999\n",
            "20 :\n",
            "accuracy @train: 82.75\n",
            "accuracy @test: 89.1\n"
          ],
          "name": "stdout"
        }
      ]
    },
    {
      "cell_type": "code",
      "metadata": {
        "id": "mB92W2Mt0BpA",
        "colab_type": "code",
        "colab": {
          "base_uri": "https://localhost:8080/",
          "height": 34
        },
        "outputId": "6bd9546c-849c-42f9-d71e-5399d45a90ec"
      },
      "source": [
        "# predicting with the optimal number of tree\n",
        "my_model = random_forest(x, y, 10)\n",
        "\n",
        "train_answers = tree_vote(my_model, x_train)\n",
        "print(f'@test: {accuracy_metric(y_test, y_pred)}')\n",
        "\n",
        "y_pred = tree_vote(my_model, test_data)"
      ],
      "execution_count": 24,
      "outputs": [
        {
          "output_type": "stream",
          "text": [
            "@train: 89.3\n"
          ],
          "name": "stdout"
        }
      ]
    },
    {
      "cell_type": "code",
      "metadata": {
        "id": "ByXBDzJ2H5OI",
        "colab_type": "code",
        "colab": {}
      },
      "source": [
        "# saving file to submission\n",
        "np.savetxt(\n",
        "    'submission_example.csv',\n",
        "    np.column_stack((np.array(range(10000,20000)), np.array(y_pred))),\n",
        "    delimiter=',',\n",
        "    header='Id,choose',\n",
        "    comments='',\n",
        "    fmt='%d'\n",
        ")"
      ],
      "execution_count": 0,
      "outputs": []
    },
    {
      "cell_type": "code",
      "metadata": {
        "id": "OdbYC3HFDXkp",
        "colab_type": "code",
        "colab": {
          "base_uri": "https://localhost:8080/",
          "height": 187
        },
        "outputId": "c56666cd-1e62-4de2-96ad-7771151eebaf"
      },
      "source": [
        "# checking the submission file\n",
        "!head submission_example.csv"
      ],
      "execution_count": 61,
      "outputs": [
        {
          "output_type": "stream",
          "text": [
            "Id,choose\n",
            "10000,0\n",
            "10001,0\n",
            "10002,0\n",
            "10003,0\n",
            "10004,0\n",
            "10005,0\n",
            "10006,0\n",
            "10007,0\n",
            "10008,0\n"
          ],
          "name": "stdout"
        }
      ]
    },
    {
      "cell_type": "code",
      "metadata": {
        "id": "PBVyDWu6Lhwh",
        "colab_type": "code",
        "colab": {
          "base_uri": "https://localhost:8080/",
          "height": 88
        },
        "outputId": "6564ddd5-3d7e-42e1-cf29-d044dbf74a0f"
      },
      "source": [
        "# making submit\n",
        "!kaggle competitions submit choose-tutors -f submission_example.csv -m \"random forest, balanced\""
      ],
      "execution_count": 62,
      "outputs": [
        {
          "output_type": "stream",
          "text": [
            "Warning: Looks like you're using an outdated API Version, please consider updating (server 1.5.6 / client 1.5.4)\n",
            "100% 78.1k/78.1k [00:02<00:00, 28.4kB/s]\n",
            "Successfully submitted to Choose tutors"
          ],
          "name": "stdout"
        }
      ]
    },
    {
      "cell_type": "code",
      "metadata": {
        "id": "myOP-qkG0082",
        "colab_type": "code",
        "colab": {
          "base_uri": "https://localhost:8080/",
          "height": 370
        },
        "outputId": "18a2cf8a-e454-4f2e-9a5d-6c485e516180"
      },
      "source": [
        "# now balancing the samples\n",
        "\n",
        "np.random.seed(1)\n",
        "\n",
        "def balanced_subsample(x,y,subsample_size=1.0):\n",
        "\n",
        "    class_xs = []\n",
        "    min_elems = None\n",
        "\n",
        "    for yi in np.unique(y):\n",
        "        elems = x[(y == yi)]\n",
        "        class_xs.append((yi, elems))\n",
        "        if min_elems == None or elems.shape[0] < min_elems:\n",
        "            min_elems = elems.shape[0]\n",
        "\n",
        "    use_elems = min_elems\n",
        "    if subsample_size < 1:\n",
        "        use_elems = int(min_elems*subsample_size)\n",
        "\n",
        "    xs = []\n",
        "    ys = []\n",
        "\n",
        "    for ci,this_xs in class_xs:\n",
        "        if len(this_xs) > use_elems:\n",
        "            np.random.shuffle(this_xs)\n",
        "\n",
        "        x_ = this_xs[:use_elems]\n",
        "        y_ = np.empty(use_elems)\n",
        "        y_.fill(ci)\n",
        "\n",
        "        xs.append(x_)\n",
        "        ys.append(y_)\n",
        "\n",
        "    xs = np.concatenate(xs)\n",
        "    ys = np.concatenate(ys)\n",
        "\n",
        "    return xs,ys\n",
        "\n",
        "balanced_samples = balanced_subsample(x_train, y_train)\n",
        "\n",
        "print(f'positive target: {len(np.where(balanced_samples[-1] == 1)[0])}')\n",
        "print(f'negative target: {len(np.where(balanced_samples[-1] == 0)[0])}')"
      ],
      "execution_count": 13,
      "outputs": [
        {
          "output_type": "error",
          "ename": "IndexError",
          "evalue": "ignored",
          "traceback": [
            "\u001b[0;31m---------------------------------------------------------------------------\u001b[0m",
            "\u001b[0;31mIndexError\u001b[0m                                Traceback (most recent call last)",
            "\u001b[0;32m<ipython-input-13-68251f667e75>\u001b[0m in \u001b[0;36m<module>\u001b[0;34m()\u001b[0m\n\u001b[1;32m     36\u001b[0m     \u001b[0;32mreturn\u001b[0m \u001b[0mxs\u001b[0m\u001b[0;34m,\u001b[0m\u001b[0mys\u001b[0m\u001b[0;34m\u001b[0m\u001b[0;34m\u001b[0m\u001b[0m\n\u001b[1;32m     37\u001b[0m \u001b[0;34m\u001b[0m\u001b[0m\n\u001b[0;32m---> 38\u001b[0;31m \u001b[0mbalanced_samples\u001b[0m \u001b[0;34m=\u001b[0m \u001b[0mbalanced_subsample\u001b[0m\u001b[0;34m(\u001b[0m\u001b[0mx_train\u001b[0m\u001b[0;34m,\u001b[0m \u001b[0my_train\u001b[0m\u001b[0;34m)\u001b[0m\u001b[0;34m\u001b[0m\u001b[0;34m\u001b[0m\u001b[0m\n\u001b[0m\u001b[1;32m     39\u001b[0m \u001b[0;34m\u001b[0m\u001b[0m\n\u001b[1;32m     40\u001b[0m \u001b[0mprint\u001b[0m\u001b[0;34m(\u001b[0m\u001b[0;34mf'positive target: {len(np.where(balanced_samples[-1] == 1)[0])}'\u001b[0m\u001b[0;34m)\u001b[0m\u001b[0;34m\u001b[0m\u001b[0;34m\u001b[0m\u001b[0m\n",
            "\u001b[0;32m<ipython-input-13-68251f667e75>\u001b[0m in \u001b[0;36mbalanced_subsample\u001b[0;34m(x, y, subsample_size)\u001b[0m\n\u001b[1;32m      8\u001b[0m \u001b[0;34m\u001b[0m\u001b[0m\n\u001b[1;32m      9\u001b[0m     \u001b[0;32mfor\u001b[0m \u001b[0myi\u001b[0m \u001b[0;32min\u001b[0m \u001b[0mnp\u001b[0m\u001b[0;34m.\u001b[0m\u001b[0munique\u001b[0m\u001b[0;34m(\u001b[0m\u001b[0my\u001b[0m\u001b[0;34m)\u001b[0m\u001b[0;34m:\u001b[0m\u001b[0;34m\u001b[0m\u001b[0;34m\u001b[0m\u001b[0m\n\u001b[0;32m---> 10\u001b[0;31m         \u001b[0melems\u001b[0m \u001b[0;34m=\u001b[0m \u001b[0mx\u001b[0m\u001b[0;34m[\u001b[0m\u001b[0;34m(\u001b[0m\u001b[0my\u001b[0m \u001b[0;34m==\u001b[0m \u001b[0myi\u001b[0m\u001b[0;34m)\u001b[0m\u001b[0;34m]\u001b[0m\u001b[0;34m\u001b[0m\u001b[0;34m\u001b[0m\u001b[0m\n\u001b[0m\u001b[1;32m     11\u001b[0m         \u001b[0mclass_xs\u001b[0m\u001b[0;34m.\u001b[0m\u001b[0mappend\u001b[0m\u001b[0;34m(\u001b[0m\u001b[0;34m(\u001b[0m\u001b[0myi\u001b[0m\u001b[0;34m,\u001b[0m \u001b[0melems\u001b[0m\u001b[0;34m)\u001b[0m\u001b[0;34m)\u001b[0m\u001b[0;34m\u001b[0m\u001b[0;34m\u001b[0m\u001b[0m\n\u001b[1;32m     12\u001b[0m         \u001b[0;32mif\u001b[0m \u001b[0mmin_elems\u001b[0m \u001b[0;34m==\u001b[0m \u001b[0;32mNone\u001b[0m \u001b[0;32mor\u001b[0m \u001b[0melems\u001b[0m\u001b[0;34m.\u001b[0m\u001b[0mshape\u001b[0m\u001b[0;34m[\u001b[0m\u001b[0;36m0\u001b[0m\u001b[0;34m]\u001b[0m \u001b[0;34m<\u001b[0m \u001b[0mmin_elems\u001b[0m\u001b[0;34m:\u001b[0m\u001b[0;34m\u001b[0m\u001b[0;34m\u001b[0m\u001b[0m\n",
            "\u001b[0;31mIndexError\u001b[0m: boolean index did not match indexed array along dimension 0; dimension is 12 but corresponding boolean dimension is 1"
          ]
        }
      ]
    },
    {
      "cell_type": "code",
      "metadata": {
        "id": "A2IX5BXd5h0N",
        "colab_type": "code",
        "colab": {}
      },
      "source": [
        "x_train = balanced_samples[0]\n",
        "y_train = balanced_samples[1]"
      ],
      "execution_count": 0,
      "outputs": []
    },
    {
      "cell_type": "code",
      "metadata": {
        "id": "b-oyCYptIYvr",
        "colab_type": "code",
        "colab": {
          "base_uri": "https://localhost:8080/",
          "height": 34
        },
        "outputId": "929c624a-5463-42f2-80f6-e45bf71a92e7"
      },
      "source": [
        "my_model = random_forest(x_train, y_train, 10)\n",
        "\n",
        "y_pred = tree_vote(my_model, x_test)\n",
        "\n",
        "print(f'@test: {accuracy_metric(y_test, y_pred)}')"
      ],
      "execution_count": 66,
      "outputs": [
        {
          "output_type": "stream",
          "text": [
            "@test: 74.45\n"
          ],
          "name": "stdout"
        }
      ]
    },
    {
      "cell_type": "code",
      "metadata": {
        "id": "OIHrjI6hPbSk",
        "colab_type": "code",
        "colab": {
          "base_uri": "https://localhost:8080/",
          "height": 105
        },
        "outputId": "63881fd3-a0cc-43c4-998d-61efdaf71fdc"
      },
      "source": [
        "# predicting with the optimal number of tree\n",
        "my_model = random_forest(x_train, y_train, 10)\n",
        "\n",
        "print(f'@test: {accuracy_metric(y_test, y_pred)}')\n",
        "\n",
        "y_pred = tree_vote(my_model, test_data)\n",
        "\n",
        "np.savetxt(\n",
        "    'submission_example.csv',\n",
        "    np.column_stack((np.array(range(10000,20000)), np.array(y_pred))),\n",
        "    delimiter=',',\n",
        "    header='Id,choose',\n",
        "    comments='',\n",
        "    fmt='%d'\n",
        ")\n",
        "\n",
        "!kaggle competitions submit choose-tutors -f submission_example.csv -m \"random forest, unbalanced, using only x_train\""
      ],
      "execution_count": 67,
      "outputs": [
        {
          "output_type": "stream",
          "text": [
            "@test: 74.45\n",
            "Warning: Looks like you're using an outdated API Version, please consider updating (server 1.5.6 / client 1.5.4)\n",
            "100% 78.1k/78.1k [00:03<00:00, 26.0kB/s]\n",
            "Successfully submitted to Choose tutors"
          ],
          "name": "stdout"
        }
      ]
    },
    {
      "cell_type": "markdown",
      "metadata": {
        "id": "yUgJ0QFAqs9B",
        "colab_type": "text"
      },
      "source": [
        "# самописная корявая нейронка"
      ]
    },
    {
      "cell_type": "code",
      "metadata": {
        "id": "jVqMlL9_quFG",
        "colab_type": "code",
        "colab": {}
      },
      "source": [
        "# functions to be used\n",
        "\n",
        "nn_architecture = [\n",
        "    {\"layer_size\": 12, \"activation\": \"none\"}, # input layer\n",
        "    {\"layer_size\": 12, \"activation\": \"relu\"},\n",
        "    # {\"layer_size\": 12, \"activation\": \"relu\"},\n",
        "    # {\"layer_size\": 12, \"activation\": \"relu\"},\n",
        "    {\"layer_size\": 1, \"activation\": \"sigmoid\"}\n",
        "]\n",
        "\n",
        "def initialize_parameters(nn_architecture, seed = 3):\n",
        "    np.random.seed(seed)\n",
        "    # python dictionary containing our parameters \"W1\", \"b1\", ..., \"WL\", \"bL\"\n",
        "    parameters = {}\n",
        "    number_of_layers = len(nn_architecture)\n",
        "\n",
        "    for l in range(1, number_of_layers):\n",
        "        parameters['W' + str(l)] = np.random.randn(\n",
        "            nn_architecture[l][\"layer_size\"],\n",
        "            nn_architecture[l-1][\"layer_size\"]\n",
        "            ) * 0.01\n",
        "        parameters['b' + str(l)] = np.zeros((nn_architecture[l][\"layer_size\"], 1))\n",
        "        \n",
        "    return parameters\n",
        "\n",
        "def sigmoid(Z):\n",
        "    S = 1 / (1 + np.exp(-Z))\n",
        "    return S\n",
        "\n",
        "def relu(Z):\n",
        "    R = np.maximum(0, Z)\n",
        "    return R\n",
        "\n",
        "def sigmoid_backward(dA, Z):\n",
        "    S = sigmoid(Z)\n",
        "    dS = S * (1 - S)\n",
        "    return dA * dS\n",
        "\n",
        "def relu_backward(dA, Z):\n",
        "    dZ = np.array(dA, copy = True)\n",
        "    dZ[Z <= 0] = 0\n",
        "    return dZ\n",
        "\n",
        "def L_model_forward(X, parameters, nn_architecture):\n",
        "    forward_cache = {}\n",
        "    A = X\n",
        "    number_of_layers = len(nn_architecture)\n",
        "    \n",
        "    for l in range(1, number_of_layers):\n",
        "        A_prev = A \n",
        "        W = parameters['W' + str(l)]\n",
        "        b = parameters['b' + str(l)]\n",
        "        activation = nn_architecture[l][\"activation\"]\n",
        "        Z, A = linear_activation_forward(A_prev, W, b, activation)\n",
        "        forward_cache['Z' + str(l)] = Z\n",
        "        forward_cache['A' + str(l-1)] = A\n",
        "\n",
        "    AL = A\n",
        "            \n",
        "    return AL, forward_cache\n",
        "\n",
        "def linear_activation_forward(A_prev, W, b, activation):\n",
        "    if activation == \"sigmoid\":\n",
        "        Z = linear_forward(A_prev, W, b)\n",
        "        A = sigmoid(Z)\n",
        "    elif activation == \"relu\":\n",
        "        Z = linear_forward(A_prev, W, b)\n",
        "        A = relu(Z)\n",
        "\n",
        "    return Z, A\n",
        "\n",
        "def linear_forward(A, W, b):\n",
        "    Z = np.dot(W, A) + b\n",
        "    return Z\n",
        "\n",
        "\n",
        "def compute_cost(AL, Y):\n",
        "    m = Y.shape[1]\n",
        "\n",
        "    # Compute loss from AL and y\n",
        "    logprobs = np.multiply(np.log(AL),Y) + np.multiply(1 - Y, np.log(1 - AL))\n",
        "    # cross-entropy cost\n",
        "    cost = - np.sum(logprobs) / m\n",
        "\n",
        "    cost = np.squeeze(cost)\n",
        "    \n",
        "    return cost\n",
        "\n",
        "def L_model_backward(AL, Y, parameters, forward_cache, nn_architecture):\n",
        "    grads = {}\n",
        "    number_of_layers = len(nn_architecture)\n",
        "    m = AL.shape[1]\n",
        "    Y = Y.reshape(AL.shape) # after this line, Y is the same shape as AL\n",
        "    \n",
        "    # Initializing the backpropagation\n",
        "    dAL = - (np.divide(Y, AL) - np.divide(1 - Y, 1 - AL))\n",
        "    dA_prev = dAL\n",
        "\n",
        "    for l in reversed(range(1, number_of_layers)):\n",
        "        dA_curr = dA_prev\n",
        "\n",
        "        activation = nn_architecture[l][\"activation\"]\n",
        "        W_curr = parameters['W' + str(l)]\n",
        "        Z_curr = forward_cache['Z' + str(l)]\n",
        "        A_prev = forward_cache['A' + str(l-1)]\n",
        "\n",
        "        dA_prev, dW_curr, db_curr = linear_activation_backward(dA_curr, Z_curr, A_prev, W_curr, activation)\n",
        "\n",
        "        grads[\"dW\" + str(l)] = dW_curr\n",
        "        grads[\"db\" + str(l)] = db_curr\n",
        "\n",
        "    return grads\n",
        "\n",
        "def linear_activation_backward(dA, Z, A_prev, W, activation):\n",
        "    if activation == \"relu\":\n",
        "        dZ = relu_backward(dA, Z)\n",
        "        dA_prev, dW, db = linear_backward(dZ, A_prev, W)\n",
        "    elif activation == \"sigmoid\":\n",
        "        dZ = sigmoid_backward(dA, Z)\n",
        "        dA_prev, dW, db = linear_backward(dZ, A_prev, W)\n",
        "\n",
        "    return dA_prev, dW, db\n",
        "\n",
        "def linear_backward(dZ, A_prev, W):\n",
        "    m = A_prev.shape[1]\n",
        "\n",
        "    dW = np.dot(dZ, A_prev.T) / m\n",
        "    db = np.sum(dZ, axis=1, keepdims=True) / m\n",
        "    dA_prev = np.dot(W.T, dZ)\n",
        "\n",
        "    return dA_prev, dW, db\n",
        "\n",
        "\n",
        "def update_parameters(parameters, grads, learning_rate):\n",
        "    L = len(parameters) // 2 # number of layers in the neural network\n",
        "\n",
        "    for l in range(1, L):\n",
        "        parameters[\"W\" + str(l)] = parameters[\"W\" + str(l)] - learning_rate * grads[\"dW\" + str(l)]\n",
        "        parameters[\"b\" + str(l)] = parameters[\"b\" + str(l)] - learning_rate * grads[\"db\" + str(l)]\n",
        "\n",
        "    return parameters\n",
        "\n",
        "def L_layer_model(X, Y, nn_architecture, learning_rate = 0.0075, num_iterations = 3000, print_cost=False):\n",
        "    np.random.seed(1)\n",
        "    # keep track of cost\n",
        "    costs = []\n",
        "    \n",
        "    # Parameters initialization.\n",
        "    parameters = initialize_parameters(nn_architecture)\n",
        "    \n",
        "    # Loop (gradient descent)\n",
        "    for i in range(0, num_iterations):\n",
        "\n",
        "        # Forward propagation: [LINEAR -> RELU]*(L-1) -> LINEAR -> SIGMOID.\n",
        "        AL, forward_cache = L_model_forward(X, parameters, nn_architecture)\n",
        "        \n",
        "        # Compute cost.\n",
        "        cost = compute_cost(AL, Y)\n",
        "    \n",
        "        # Backward propagation.\n",
        "        grads = L_model_backward(AL, Y, parameters, forward_cache, nn_architecture)\n",
        " \n",
        "        # Update parameters.\n",
        "        parameters = update_parameters(parameters, grads, learning_rate)\n",
        "                \n",
        "        # Print the cost every 100 training example\n",
        "        if print_cost and i % 100 == 0:\n",
        "            print(\"Cost after iteration %i: %f\" %(i, cost))\n",
        "\n",
        "        costs.append(cost)\n",
        "            \n",
        "    # plot the cost\n",
        "    plt.plot(np.squeeze(costs))\n",
        "    plt.ylabel('cost')\n",
        "    plt.xlabel('iterations (per tens)')\n",
        "    plt.title(\"Learning rate =\" + str(learning_rate))\n",
        "    plt.show()\n",
        "    \n",
        "    return parameters"
      ],
      "execution_count": 0,
      "outputs": []
    },
    {
      "cell_type": "code",
      "metadata": {
        "id": "tCfGnHkk7hI7",
        "colab_type": "code",
        "colab": {}
      },
      "source": [
        "# converting the samples to feed to NN\n",
        "\n",
        "x_train = x_train.reshape(x_train.shape[1], x_train.shape[0])\n",
        "y_train = y_train.reshape(1, y_train.shape[0])\n",
        "x_test = x_test.reshape(x_test.shape[1], x_test.shape[0])"
      ],
      "execution_count": 0,
      "outputs": []
    },
    {
      "cell_type": "code",
      "metadata": {
        "id": "fGOcEK42Qcdx",
        "colab_type": "code",
        "colab": {
          "base_uri": "https://localhost:8080/",
          "height": 329
        },
        "outputId": "984ecbbf-d86b-464a-e0a2-ffbabb8e1f08"
      },
      "source": [
        "model = L_layer_model(x_train, y_train, nn_architecture, learning_rate = 0.01, num_iterations = 200, print_cost=True)"
      ],
      "execution_count": 74,
      "outputs": [
        {
          "output_type": "stream",
          "text": [
            "Cost after iteration 0: 0.711118\n",
            "Cost after iteration 100: 0.572017\n"
          ],
          "name": "stdout"
        },
        {
          "output_type": "display_data",
          "data": {
            "image/png": "[encoded data removed]",
            "text/plain": [
              "<Figure size 432x288 with 1 Axes>"
            ]
          },
          "metadata": {
            "tags": []
          }
        }
      ]
    },
    {
      "cell_type": "code",
      "metadata": {
        "id": "PeGIX96J80wH",
        "colab_type": "code",
        "colab": {}
      },
      "source": [
        "# predicting for the validation test\n",
        "y_pred = L_model_forward(x_test, model, nn_architecture)\n",
        "\n",
        "# inverse transform the predictions to the initial shape\n",
        "y_pred = y_pred[0].reshape(y_pred[0].shape[1],)"
      ],
      "execution_count": 0,
      "outputs": []
    },
    {
      "cell_type": "code",
      "metadata": {
        "id": "RnhH6O7w9cFs",
        "colab_type": "code",
        "colab": {}
      },
      "source": [
        "# assuming i got probabilites\n",
        "# having no additional info, i assume the threshold of 0.5\n",
        "\n",
        "thresh = 0.5\n",
        "y_pred[y_pred > thresh] = 1\n",
        "y_pred[y_pred <= thresh] = 0"
      ],
      "execution_count": 0,
      "outputs": []
    },
    {
      "cell_type": "code",
      "metadata": {
        "id": "HgDKe0TnRIC4",
        "colab_type": "code",
        "colab": {
          "base_uri": "https://localhost:8080/",
          "height": 34
        },
        "outputId": "c7ae111e-07b8-49e8-c6de-5b2ba0a9843d"
      },
      "source": [
        "# checking metric\n",
        "print(f'@test: {accuracy_metric(y_test, y_pred)}')"
      ],
      "execution_count": 92,
      "outputs": [
        {
          "output_type": "stream",
          "text": [
            "@test: 76.0\n"
          ],
          "name": "stdout"
        }
      ]
    },
    {
      "cell_type": "code",
      "metadata": {
        "id": "IkK8_weER2Tr",
        "colab_type": "code",
        "colab": {}
      },
      "source": [
        "## now predict for the test data\n",
        "\n",
        "# converting train and test data to feed into NN\n",
        "test_data = test_data.reshape(test_data.shape[1], test_data.shape[0])\n",
        "x = x.reshape(x.shape[1], x.shape[0])\n",
        "y = y.reshape(1, y.shape[0])"
      ],
      "execution_count": 0,
      "outputs": []
    },
    {
      "cell_type": "code",
      "metadata": {
        "id": "wYG2NtsrTHZ6",
        "colab_type": "code",
        "colab": {
          "base_uri": "https://localhost:8080/",
          "height": 329
        },
        "outputId": "0568c87a-ede8-4d24-d39d-8bfb5bc37735"
      },
      "source": [
        "# training the NN\n",
        "model = L_layer_model(\n",
        "    x, y, \n",
        "    nn_architecture, \n",
        "    learning_rate = 0.01, \n",
        "    num_iterations = 200, \n",
        "    print_cost=True\n",
        ")"
      ],
      "execution_count": 105,
      "outputs": [
        {
          "output_type": "stream",
          "text": [
            "Cost after iteration 0: 0.707051\n",
            "Cost after iteration 100: 0.552950\n"
          ],
          "name": "stdout"
        },
        {
          "output_type": "display_data",
          "data": {
            "image/png": "[encoded data removed]",
            "text/plain": [
              "<Figure size 432x288 with 1 Axes>"
            ]
          },
          "metadata": {
            "tags": []
          }
        }
      ]
    },
    {
      "cell_type": "code",
      "metadata": {
        "id": "aYJlajRiTavD",
        "colab_type": "code",
        "colab": {
          "base_uri": "https://localhost:8080/",
          "height": 34
        },
        "outputId": "1dc4bffd-e9a0-4288-da70-5aca2233602b"
      },
      "source": [
        "y_pred = L_model_forward(test_data, model, nn_architecture)\n",
        "\n",
        "y_pred = y_pred[0].reshape(y_pred[0].shape[1],)\n",
        "\n",
        "thresh = 0.5\n",
        "y_pred[y_pred > thresh] = 1\n",
        "y_pred[y_pred <= thresh] = 0\n",
        "\n",
        "print(f'@test: {accuracy_metric(y_test, y_pred)}')"
      ],
      "execution_count": 110,
      "outputs": [
        {
          "output_type": "stream",
          "text": [
            "@test: 86.45\n"
          ],
          "name": "stdout"
        }
      ]
    },
    {
      "cell_type": "code",
      "metadata": {
        "id": "06-gRCWQ93Q-",
        "colab_type": "code",
        "colab": {
          "base_uri": "https://localhost:8080/",
          "height": 88
        },
        "outputId": "7fac3791-24f8-4e1c-ff1f-fc8e3fbdf101"
      },
      "source": [
        "np.savetxt(\n",
        "    'submission_example.csv',\n",
        "    np.column_stack((np.array(range(10000,20000)), np.array(y_pred))),\n",
        "    delimiter=',',\n",
        "    header='Id,choose',\n",
        "    comments='',\n",
        "    fmt='%d'\n",
        ")\n",
        "\n",
        "!kaggle competitions submit choose-tutors -f submission_example.csv -m \"NN, unbalanced\""
      ],
      "execution_count": 113,
      "outputs": [
        {
          "output_type": "stream",
          "text": [
            "Warning: Looks like you're using an outdated API Version, please consider updating (server 1.5.6 / client 1.5.4)\n",
            "100% 78.1k/78.1k [00:02<00:00, 28.4kB/s]\n",
            "Successfully submitted to Choose tutors"
          ],
          "name": "stdout"
        }
      ]
    },
    {
      "cell_type": "code",
      "metadata": {
        "id": "JR5qwUUPWJbY",
        "colab_type": "code",
        "colab": {
          "base_uri": "https://localhost:8080/",
          "height": 51
        },
        "outputId": "4077924a-5895-425c-c8e6-970f172a14dd"
      },
      "source": [
        "# now balancing the samples\n",
        "\n",
        "balanced_samples = balanced_subsample(x_train, y_train)\n",
        "\n",
        "print(f'positive target: {len(np.where(balanced_samples[-1] == 1)[0])}')\n",
        "print(f'negative target: {len(np.where(balanced_samples[-1] == 0)[0])}')\n",
        "\n",
        "x_train = balanced_samples[0]\n",
        "y_train = balanced_samples[1]\n",
        "\n",
        "x_train = x_train.reshape(x_train.shape[1], x_train.shape[0])\n",
        "y_train = y_train.reshape(1, y_train.shape[0])\n",
        "x_test = x_test.reshape(x_test.shape[1], x_test.shape[0])"
      ],
      "execution_count": 17,
      "outputs": [
        {
          "output_type": "stream",
          "text": [
            "positive target: 921\n",
            "negative target: 921\n"
          ],
          "name": "stdout"
        }
      ]
    },
    {
      "cell_type": "code",
      "metadata": {
        "id": "gaUfv_1uX2gw",
        "colab_type": "code",
        "colab": {}
      },
      "source": [
        "# minor update to verbose greater step\n",
        "\n",
        "def L_layer_model(X, Y, nn_architecture, learning_rate = 0.0075, num_iterations = 3000, print_cost=False):\n",
        "    np.random.seed(1)\n",
        "    # keep track of cost\n",
        "    costs = []\n",
        "    \n",
        "    # Parameters initialization.\n",
        "    parameters = initialize_parameters(nn_architecture)\n",
        "    \n",
        "    # Loop (gradient descent)\n",
        "    for i in range(0, num_iterations):\n",
        "\n",
        "        # Forward propagation: [LINEAR -> RELU]*(L-1) -> LINEAR -> SIGMOID.\n",
        "        AL, forward_cache = L_model_forward(X, parameters, nn_architecture)\n",
        "        \n",
        "        # Compute cost.\n",
        "        cost = compute_cost(AL, Y)\n",
        "    \n",
        "        # Backward propagation.\n",
        "        grads = L_model_backward(AL, Y, parameters, forward_cache, nn_architecture)\n",
        " \n",
        "        # Update parameters.\n",
        "        parameters = update_parameters(parameters, grads, learning_rate)\n",
        "                \n",
        "        # Print the cost every 100 training example\n",
        "        if print_cost and i % 1000 == 0:\n",
        "            print(\"Cost after iteration %i: %f\" %(i, cost))\n",
        "\n",
        "        costs.append(cost)\n",
        "\n",
        "    # plot the cost\n",
        "    plt.plot(np.squeeze(costs))\n",
        "    plt.ylabel('cost')\n",
        "    plt.xlabel('iterations (per tens)')\n",
        "    plt.title(\"Learning rate =\" + str(learning_rate))\n",
        "    plt.show()\n",
        "    \n",
        "    return parameters"
      ],
      "execution_count": 0,
      "outputs": []
    },
    {
      "cell_type": "code",
      "metadata": {
        "id": "e8I7Erj8eEyQ",
        "colab_type": "code",
        "colab": {}
      },
      "source": [
        "nn_architecture = [\n",
        "    {\"layer_size\": 12, \"activation\": \"none\"}, # input layer\n",
        "    {\"layer_size\": 12, \"activation\": \"relu\"},\n",
        "    {\"layer_size\": 1, \"activation\": \"sigmoid\"}\n",
        "]"
      ],
      "execution_count": 0,
      "outputs": []
    },
    {
      "cell_type": "code",
      "metadata": {
        "id": "QRNMWMYH_x_j",
        "colab_type": "code",
        "colab": {
          "base_uri": "https://localhost:8080/",
          "height": 312
        },
        "outputId": "2cd0b4cd-69f6-4431-c625-64216dd451bd"
      },
      "source": [
        "# training the NN - searching the optimal epochs\n",
        "model = L_layer_model(\n",
        "    x_train, y_train, \n",
        "    nn_architecture, \n",
        "    learning_rate = 0.05, \n",
        "    num_iterations = 300000, \n",
        "    print_cost=False\n",
        ")\n",
        "\n",
        "y_pred = L_model_forward(x_test, model, nn_architecture)\n",
        "\n",
        "y_pred = y_pred[0].reshape(y_pred[0].shape[1],)\n",
        "\n",
        "thresh = 0.5\n",
        "y_pred[y_pred > thresh] = 1\n",
        "y_pred[y_pred <= thresh] = 0\n",
        "\n",
        "print(f'@test: {accuracy_metric(y_test, y_pred)}')"
      ],
      "execution_count": 20,
      "outputs": [
        {
          "output_type": "display_data",
          "data": {
            "image/png": "[encoded data removed]",
            "text/plain": [
              "<Figure size 432x288 with 1 Axes>"
            ]
          },
          "metadata": {
            "tags": []
          }
        },
        {
          "output_type": "stream",
          "text": [
            "@test: 62.4\n"
          ],
          "name": "stdout"
        }
      ]
    },
    {
      "cell_type": "code",
      "metadata": {
        "id": "D3y7GqjtAWht",
        "colab_type": "code",
        "colab": {
          "base_uri": "https://localhost:8080/",
          "height": 105
        },
        "outputId": "590cbd37-ed1a-4755-e347-2b3fd0a07b93"
      },
      "source": [
        "test_data = test_data.reshape(test_data.shape[1], test_data.shape[0])\n",
        "\n",
        "y_pred = L_model_forward(test_data, model, nn_architecture)\n",
        "\n",
        "y_pred = y_pred[0].reshape(y_pred[0].shape[1],)\n",
        "\n",
        "thresh = 0.5\n",
        "y_pred[y_pred > thresh] = 1\n",
        "y_pred[y_pred <= thresh] = 0\n",
        "\n",
        "print(f'@test: {accuracy_metric(y_test, y_pred)}')\n",
        "\n",
        "np.savetxt(\n",
        "    'submission_example.csv',\n",
        "    np.column_stack((np.array(range(10000,20000)), np.array(y_pred))),\n",
        "    delimiter=',',\n",
        "    header='Id,choose',\n",
        "    comments='',\n",
        "    fmt='%d'\n",
        ")\n",
        "\n",
        "!kaggle competitions submit choose-tutors -f submission_example.csv -m \"NN, balanced\""
      ],
      "execution_count": 21,
      "outputs": [
        {
          "output_type": "stream",
          "text": [
            "@test: 57.9\n",
            "Warning: Looks like you're using an outdated API Version, please consider updating (server 1.5.6 / client 1.5.4)\n",
            "100% 78.1k/78.1k [00:10<00:00, 7.61kB/s]\n",
            "Successfully submitted to Choose tutors"
          ],
          "name": "stdout"
        }
      ]
    }
  ]
}