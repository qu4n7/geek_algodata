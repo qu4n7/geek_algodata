{
  "nbformat": 4,
  "nbformat_minor": 0,
  "metadata": {
    "colab": {
      "name": "geek_algodata_2_task.ipynb",
      "provenance": [],
      "collapsed_sections": []
    },
    "kernelspec": {
      "display_name": "Python 3",
      "language": "python",
      "name": "python3"
    },
    "language_info": {
      "codemirror_mode": {
        "name": "ipython",
        "version": 3
      },
      "file_extension": ".py",
      "mimetype": "text/x-python",
      "name": "python",
      "nbconvert_exporter": "python",
      "pygments_lexer": "ipython3",
      "version": "3.6.9"
    }
  },
  "cells": [
    {
      "cell_type": "code",
      "metadata": {
        "colab_type": "code",
        "id": "_u5bV-OlT34p",
        "colab": {}
      },
      "source": [
        "import numpy as np\n",
        "import matplotlib.pyplot as plt\n",
        "\n",
        "import warnings\n",
        "warnings.filterwarnings('ignore')"
      ],
      "execution_count": 0,
      "outputs": []
    },
    {
      "cell_type": "markdown",
      "metadata": {
        "id": "PT1AZ8nwu1hv",
        "colab_type": "text"
      },
      "source": [
        "## functions"
      ]
    },
    {
      "cell_type": "code",
      "metadata": {
        "id": "DSVwOlR_u2WE",
        "colab_type": "code",
        "colab": {}
      },
      "source": [
        "# normalization function function (excl_col - columns to exclude, verd - to plot or not)\n",
        "def my_norm(x, excl_cols=[], verb=True):\n",
        "    x_norm = x.copy().astype(float)\n",
        "    for i in ([i for i in range(x_norm.shape[0]) if i not in excl_cols]):\n",
        "        print(f'min max for col {i}: {x[i].min(), x[i].max()}')\n",
        "        x_norm[i] = (x[i] - x[i].min()) / (x[i].max() - x[i].min())\n",
        "        if verb==True:\n",
        "            plt.hist(x[i])\n",
        "            plt.pause(0.05)\n",
        "\n",
        "    return x_norm\n",
        "\n",
        "# standartization function (excl_col - columns to exclude, verd - to plot or not)\n",
        "def my_stnd(x, excl_cols=[], verb=True):\n",
        "    x_std = x.copy().astype(float)\n",
        "    for i in ([i for i in range(x_std.shape[0]) if i not in excl_cols]):\n",
        "        print(f'mean, std for col {i}: {x[i].mean(), x[i].std()}')\n",
        "        if verb==True:\n",
        "            plt.hist(x[i])\n",
        "            plt.pause(0.05)\n",
        "        x_std[i] = (x[i] - x[i].mean()) / x[i].std()\n",
        "        if verb==True:\n",
        "            plt.hist(x_std[i])\n",
        "            plt.pause(0.05)\n",
        "\n",
        "    return x_std\n",
        "\n",
        "# mean absoulute error\n",
        "def calc_mae(y, y_pred):\n",
        "  err = np.mean(np.abs(y - y_pred))\n",
        "  return err\n",
        "\n",
        "# mean squarred error\n",
        "def calc_mse(y, y_pred):\n",
        "  err = np.mean((y - y_pred)**2)\n",
        "  return err\n",
        "\n",
        "# calc weights by gradient descent\n",
        "def eval_model(x, y, iterations, alpha=1e-4):\n",
        "    w = np.random.randn(x.shape[0])\n",
        "    for i in range(1, iterations+1):\n",
        "        y_pred = np.dot(w, x)\n",
        "        err = calc_mse(y, y_pred)\n",
        "        w -= (alpha * (1/x.shape[1] * 2 * np.dot((y_pred - y), x.T)))\n",
        "        if i % (iterations / 10) == 0:\n",
        "            print(i, w, err)\n",
        "    return w\n",
        "\n",
        "# calc weights by stochastic gradient descent\n",
        "def eval_sgd_model(x, y, iterations, qty_in_batch, alpha=1e-4):\n",
        "    w = np.random.randn(x.shape[0])\n",
        "    n_batch = x.shape[1] // qty_in_batch\n",
        "    if x.shape[1] % qty_in_batch != 0:\n",
        "        n_batch += 1\n",
        "    for i in range(1, iterations+1):\n",
        "        for batch in range(n_batch):\n",
        "            start_ = qty_in_batch*batch\n",
        "            end_ = qty_in_batch*(batch+1)\n",
        "        \n",
        "        # print(batch, n_batch, start_, end_)\n",
        "        \n",
        "            x_tmp = x[:, start_ : end_]\n",
        "            y_tmp = y[start_ : end_]\n",
        "            y_pred_tmp = np.dot(w, x_tmp)\n",
        "            err = calc_mse(y_tmp, y_pred_tmp)\n",
        "            w -= (alpha * (1/x.shape[1] * 2 * np.dot((y_pred_tmp - y_tmp), x_tmp.T)))\n",
        "        if i % (iterations / 10) == 0:\n",
        "            print(i, w, err)\n",
        "    \n",
        "    return w\n",
        "\n",
        "# l1 regularization \n",
        "# f(x, w) + (lambda_/2) * np.sum(np.abs(w))\n",
        "def eval_model_reg1(x, y, iterations, alpha=1e-4, lambda_=1e-8):\n",
        "    np.random.seed(42)\n",
        "    w = np.random.randn(x.shape[0])\n",
        "    for i in range(1, iterations+1):\n",
        "        y_pred = np.dot(w, x)\n",
        "        err = calc_mae(y, y_pred)\n",
        "        w -= alpha * (1/x.shape[1] * 2 * np.dot((y_pred - y), x.T) + lambda_ * w) \n",
        "        if i % (iterations / 10) == 0:\n",
        "            print(i, w, err)\n",
        "\n",
        "    return w\n",
        "\n",
        "# l2 regularization \n",
        "# f(x, w) + (lambda_/2) * np.sum(w**2)\n",
        "def eval_model_reg2(x, y, iterations, alpha=1e-4, lambda_=1e-8):\n",
        "    np.random.seed(42)\n",
        "    w = np.random.randn(x.shape[0])\n",
        "    for i in range(1, iterations+1):\n",
        "        y_pred = np.dot(w, x)\n",
        "        err = calc_mse(y, y_pred)\n",
        "        w -= alpha * (1/x.shape[1] * 2 * np.dot((y_pred - y), x.T) + lambda_ * w) \n",
        "        if i % (iterations / 10) == 0:\n",
        "            print(i, w, err)\n",
        "\n",
        "    return w"
      ],
      "execution_count": 0,
      "outputs": []
    },
    {
      "cell_type": "markdown",
      "metadata": {
        "id": "lAqYkFoMuVuD",
        "colab_type": "text"
      },
      "source": [
        "## data upload"
      ]
    },
    {
      "cell_type": "code",
      "metadata": {
        "colab_type": "code",
        "id": "_n6il-AZaLuA",
        "colab": {}
      },
      "source": [
        "x = np.array([[1, 1, 1, 1, 1, 1, 1, 1, 1, 1],\n",
        "              [1, 1, 2, 1, 3, 0, 5, 10, 1, 2],\n",
        "              [500, 700, 750, 600, 1450, 800, 1500, 2000, 450, 1000],\n",
        "              [1, 1, 2, 1, 2, 1, 3, 3, 1, 2]])\n",
        "\n",
        "y = [45, 55, 50, 59, 65, 35, 75, 80, 50, 60]"
      ],
      "execution_count": 0,
      "outputs": []
    },
    {
      "cell_type": "markdown",
      "metadata": {
        "id": "Sax4khRfG0cy",
        "colab_type": "text"
      },
      "source": [
        "## preprocessing"
      ]
    },
    {
      "cell_type": "code",
      "metadata": {
        "id": "T4d0ue55AxFM",
        "colab_type": "code",
        "outputId": "2c0906bc-4bad-466c-8f08-a226b3a2903d",
        "colab": {
          "base_uri": "https://localhost:8080/",
          "height": 187
        }
      },
      "source": [
        "# normalization \n",
        "my_norm(x, excl_cols=[0,3], verb=False)"
      ],
      "execution_count": 14,
      "outputs": [
        {
          "output_type": "stream",
          "text": [
            "min max for col 1: (0, 10)\n",
            "min max for col 2: (450, 2000)\n"
          ],
          "name": "stdout"
        },
        {
          "output_type": "execute_result",
          "data": {
            "text/plain": [
              "array([[1.        , 1.        , 1.        , 1.        , 1.        ,\n",
              "        1.        , 1.        , 1.        , 1.        , 1.        ],\n",
              "       [0.1       , 0.1       , 0.2       , 0.1       , 0.3       ,\n",
              "        0.        , 0.5       , 1.        , 0.1       , 0.2       ],\n",
              "       [0.03225806, 0.16129032, 0.19354839, 0.09677419, 0.64516129,\n",
              "        0.22580645, 0.67741935, 1.        , 0.        , 0.35483871],\n",
              "       [1.        , 1.        , 2.        , 1.        , 2.        ,\n",
              "        1.        , 3.        , 3.        , 1.        , 2.        ]])"
            ]
          },
          "metadata": {
            "tags": []
          },
          "execution_count": 14
        }
      ]
    },
    {
      "cell_type": "code",
      "metadata": {
        "id": "VXX3vdQ1R9zx",
        "colab_type": "code",
        "outputId": "58e7597e-ddf9-4f79-afa1-597a059b8000",
        "colab": {
          "base_uri": "https://localhost:8080/",
          "height": 170
        }
      },
      "source": [
        "# standartization\n",
        "\n",
        "my_stnd(x, [0], verb=False)[0:3]"
      ],
      "execution_count": 19,
      "outputs": [
        {
          "output_type": "stream",
          "text": [
            "mean, std for col 1: (2.6, 2.8000000000000003)\n",
            "mean, std for col 2: (975.0, 484.8968962573384)\n",
            "mean, std for col 3: (1.7, 0.7810249675906655)\n"
          ],
          "name": "stdout"
        },
        {
          "output_type": "execute_result",
          "data": {
            "text/plain": [
              "array([[ 1.        ,  1.        ,  1.        ,  1.        ,  1.        ,\n",
              "         1.        ,  1.        ,  1.        ,  1.        ,  1.        ],\n",
              "       [-0.57142857, -0.57142857, -0.21428571, -0.57142857,  0.14285714,\n",
              "        -0.92857143,  0.85714286,  2.64285714, -0.57142857, -0.21428571],\n",
              "       [-0.97958969, -0.56713087, -0.46401617, -0.77336028,  0.97958969,\n",
              "        -0.36090146,  1.08270439,  2.11385144, -1.08270439,  0.05155735]])"
            ]
          },
          "metadata": {
            "tags": []
          },
          "execution_count": 19
        }
      ]
    },
    {
      "cell_type": "code",
      "metadata": {
        "colab_type": "code",
        "id": "Zy63bpFfeqzu",
        "outputId": "3798c73e-c3a4-413a-ff07-9011e8d9e679",
        "colab": {
          "base_uri": "https://localhost:8080/",
          "height": 1000
        }
      },
      "source": [
        "my_stnd(x,excl_cols=[0])"
      ],
      "execution_count": 20,
      "outputs": [
        {
          "output_type": "stream",
          "text": [
            "mean, std for col 1: (2.6, 2.8000000000000003)\n"
          ],
          "name": "stdout"
        },
        {
          "output_type": "display_data",
          "data": {
            "image/png": "[encoded data removed]",
            "text/plain": [
              "<Figure size 432x288 with 1 Axes>"
            ]
          },
          "metadata": {
            "tags": []
          }
        },
        {
          "output_type": "display_data",
          "data": {
            "image/png": "[encoded data removed]",
            "text/plain": [
              "<Figure size 432x288 with 1 Axes>"
            ]
          },
          "metadata": {
            "tags": []
          }
        },
        {
          "output_type": "stream",
          "text": [
            "mean, std for col 2: (975.0, 484.8968962573384)\n"
          ],
          "name": "stdout"
        },
        {
          "output_type": "display_data",
          "data": {
            "image/png": "[encoded data removed]",
            "text/plain": [
              "<Figure size 432x288 with 1 Axes>"
            ]
          },
          "metadata": {
            "tags": []
          }
        },
        {
          "output_type": "display_data",
          "data": {
            "image/png": "[encoded data removed]",
            "text/plain": [
              "<Figure size 432x288 with 1 Axes>"
            ]
          },
          "metadata": {
            "tags": []
          }
        },
        {
          "output_type": "stream",
          "text": [
            "mean, std for col 3: (1.7, 0.7810249675906655)\n"
          ],
          "name": "stdout"
        },
        {
          "output_type": "display_data",
          "data": {
            "image/png": "[encoded data removed]",
            "text/plain": [
              "<Figure size 432x288 with 1 Axes>"
            ]
          },
          "metadata": {
            "tags": []
          }
        },
        {
          "output_type": "display_data",
          "data": {
            "image/png": "[encoded data removed]",
            "text/plain": [
              "<Figure size 432x288 with 1 Axes>"
            ]
          },
          "metadata": {
            "tags": []
          }
        },
        {
          "output_type": "execute_result",
          "data": {
            "text/plain": [
              "array([[ 1.        ,  1.        ,  1.        ,  1.        ,  1.        ,\n",
              "         1.        ,  1.        ,  1.        ,  1.        ,  1.        ],\n",
              "       [-0.57142857, -0.57142857, -0.21428571, -0.57142857,  0.14285714,\n",
              "        -0.92857143,  0.85714286,  2.64285714, -0.57142857, -0.21428571],\n",
              "       [-0.97958969, -0.56713087, -0.46401617, -0.77336028,  0.97958969,\n",
              "        -0.36090146,  1.08270439,  2.11385144, -1.08270439,  0.05155735],\n",
              "       [-0.89625816, -0.89625816,  0.38411064, -0.89625816,  0.38411064,\n",
              "        -0.89625816,  1.66447944,  1.66447944, -0.89625816,  0.38411064]])"
            ]
          },
          "metadata": {
            "tags": []
          },
          "execution_count": 20
        }
      ]
    },
    {
      "cell_type": "code",
      "metadata": {
        "colab_type": "code",
        "id": "UdGy9tjVhZol",
        "outputId": "99e2d2a3-0120-4735-baf7-3d9ae833cc40",
        "colab": {
          "base_uri": "https://localhost:8080/",
          "height": 255
        }
      },
      "source": [
        "# GD\n",
        "eval_model(my_stnd(x, [0], verb=False)[0:3], y, iterations=1000, alpha=1e-2)"
      ],
      "execution_count": 21,
      "outputs": [
        {
          "output_type": "stream",
          "text": [
            "mean, std for col 1: (2.6, 2.8000000000000003)\n",
            "mean, std for col 2: (975.0, 484.8968962573384)\n",
            "mean, std for col 3: (1.7, 0.7810249675906655)\n",
            "100 [49.75262874  5.08993876  6.02735258] 104.8372494405259\n",
            "200 [56.38580902  5.58137395  5.75363927] 44.66926428931885\n",
            "300 [57.26549844  5.89820489  5.44131   ] 43.4179483011302\n",
            "400 [57.38216246  6.15692185  5.18268612] 43.264800816775086\n",
            "500 [57.39763439  6.36962026  4.96998964] 43.17343956173872\n",
            "600 [57.39968627  6.54451544  4.7950945 ] 43.111881696116946\n",
            "700 [57.39995839  6.68832684  4.6512831 ] 43.07026426766119\n",
            "800 [57.39999448  6.80657892  4.53303102] 43.042125488984595\n",
            "900 [57.39999927  6.90381431  4.43579564] 43.023099981837404\n",
            "1000 [57.3999999   6.98376824  4.3558417 ] 43.01023624144636\n"
          ],
          "name": "stdout"
        },
        {
          "output_type": "execute_result",
          "data": {
            "text/plain": [
              "array([57.3999999 ,  6.98376824,  4.3558417 ])"
            ]
          },
          "metadata": {
            "tags": []
          },
          "execution_count": 21
        }
      ]
    },
    {
      "cell_type": "code",
      "metadata": {
        "colab_type": "code",
        "id": "VDpN7UxYnrcS",
        "outputId": "5e7c865c-8318-4f4f-efa7-8b9524b476dd",
        "colab": {
          "base_uri": "https://localhost:8080/",
          "height": 255
        }
      },
      "source": [
        "# SGD\n",
        "eval_sgd_model(my_stnd(x, [0], verb=False), y, iterations=5000, qty_in_batch=5, alpha=1e-2)"
      ],
      "execution_count": 22,
      "outputs": [
        {
          "output_type": "stream",
          "text": [
            "mean, std for col 1: (2.6, 2.8000000000000003)\n",
            "mean, std for col 2: (975.0, 484.8968962573384)\n",
            "mean, std for col 3: (1.7, 0.7810249675906655)\n",
            "500 [57.39600376  5.6141731   2.3466437   3.71928984] 41.1899462745533\n",
            "1000 [57.39807256  5.92306486  1.79550162  3.96756044] 39.423034884714504\n",
            "1500 [57.39790547  6.05267228  1.57254183  4.06332083] 38.73485734649362\n",
            "2000 [57.39783677  6.10629764  1.48223949  4.1009638 ] 38.46215964223638\n",
            "2500 [57.39780869  6.12830768  1.44564015  4.11594236] 38.35288788923384\n",
            "3000 [57.39779724  6.13729916  1.43080033  4.12194798] 38.30885065402753\n",
            "3500 [57.39779258  6.14096216  1.42478176  4.12436721] 38.29104999123372\n",
            "4000 [57.39779069  6.14245195  1.42234045  4.12534451] 38.28384299300039\n",
            "4500 [57.39778992  6.14305727  1.42135009  4.12574   ] 38.28092247279902\n",
            "5000 [57.39778961  6.14330308  1.42094832  4.1259002 ] 38.27973838327938\n"
          ],
          "name": "stdout"
        },
        {
          "output_type": "execute_result",
          "data": {
            "text/plain": [
              "array([57.39778961,  6.14330308,  1.42094832,  4.1259002 ])"
            ]
          },
          "metadata": {
            "tags": []
          },
          "execution_count": 22
        }
      ]
    },
    {
      "cell_type": "code",
      "metadata": {
        "colab_type": "code",
        "id": "SgEyis2zlJeb",
        "outputId": "0cdf7cbc-fd92-468f-9e30-b086ea2b4c61",
        "colab": {
          "base_uri": "https://localhost:8080/",
          "height": 255
        }
      },
      "source": [
        "#l2 regularization\n",
        "eval_model_reg2(my_stnd(x, [0], verb=False), y, iterations=5000, alpha=1e-2, lambda_=1e-4)"
      ],
      "execution_count": 23,
      "outputs": [
        {
          "output_type": "stream",
          "text": [
            "mean, std for col 1: (2.6, 2.8000000000000003)\n",
            "mean, std for col 2: (975.0, 484.8968962573384)\n",
            "mean, std for col 3: (1.7, 0.7810249675906655)\n",
            "500 [57.39479705  5.10767868  2.46037345  4.08674902] 39.98166412253417\n",
            "1000 [57.39713005  5.765859    1.85689028  4.03893236] 39.807231204063974\n",
            "1500 [57.39713014  5.99060723  1.60529698  4.06885866] 39.78240504280037\n",
            "2000 [57.39713014  6.07152025  1.50155606  4.09300748] 39.7785235657889\n",
            "2500 [57.39713014  6.10185559  1.45905205  4.10572941] 39.77788748617128\n",
            "3000 [57.39713014  6.11355928  1.44170275  4.11160375] 39.77777930470261\n",
            "3500 [57.39713014  6.11816175  1.43463681  4.11416107] 39.77775983405893\n",
            "4000 [57.39713014  6.11999396  1.43176283  4.1152412 ] 39.777755943216036\n",
            "4500 [57.39713014  6.12072893  1.43059479  4.11568989] 39.77775502451415\n",
            "5000 [57.39713014  6.12102515  1.4301203   4.11587451] 39.777754760507676\n"
          ],
          "name": "stdout"
        },
        {
          "output_type": "execute_result",
          "data": {
            "text/plain": [
              "array([57.39713014,  6.12102515,  1.4301203 ,  4.11587451])"
            ]
          },
          "metadata": {
            "tags": []
          },
          "execution_count": 23
        }
      ]
    },
    {
      "cell_type": "markdown",
      "metadata": {
        "id": "WBTX_5GQN8AK",
        "colab_type": "text"
      },
      "source": [
        "#  1. Постройте график зависимости весов всех признаков от lambda в L2-регуляризации (на данных из урока)."
      ]
    },
    {
      "cell_type": "code",
      "metadata": {
        "id": "QVU6E7TuD3kB",
        "colab_type": "code",
        "colab": {}
      },
      "source": [
        "# не успел"
      ],
      "execution_count": 0,
      "outputs": []
    },
    {
      "cell_type": "markdown",
      "metadata": {
        "id": "9idNZVELD-e8",
        "colab_type": "text"
      },
      "source": [
        "#  2. Можно ли к одному и тому же признаку применить сразу и нормализацию, и стандартизацию?"
      ]
    },
    {
      "cell_type": "markdown",
      "metadata": {
        "id": "hHGAAPRwVvsa",
        "colab_type": "text"
      },
      "source": [
        "насколько я понял, нормализацию можно рассмотреть как частный случай стандартизации. выбор зависит от предположения о наличия нормального распределения признака. нормализация подходит для случаев неизвестного распределения признака, либо распределения отличного от гауссовского, нормализация - обратно - эффективна при предположении о нормальном распределения признаков. смысл применять сразу и то и другое не вижу, но на всякий случай попробовал для нашего случая - ничего ужасного не произошло. поэтому отвечая на вопрос, можно ли - эмпирически - да, возможно, но только стандартизирую уже нормализованные признаки"
      ]
    },
    {
      "cell_type": "code",
      "metadata": {
        "id": "9ljZaFcucdvX",
        "colab_type": "code",
        "colab": {
          "base_uri": "https://localhost:8080/",
          "height": 306
        },
        "outputId": "c9c1cbf9-c467-4eab-a1e3-3f1839eba353"
      },
      "source": [
        "eval_model_reg1(\n",
        "    my_stnd(\n",
        "        my_norm(\n",
        "            x, \n",
        "            excl_cols=[0], \n",
        "            verb=False\n",
        "        ),\n",
        "        excl_cols=[0],\n",
        "        verb=False\n",
        "    ),\n",
        "    y,\n",
        "    iterations=50000, \n",
        "    alpha=1e-2, \n",
        "    lambda_=1e-3\n",
        ")"
      ],
      "execution_count": 39,
      "outputs": [
        {
          "output_type": "stream",
          "text": [
            "min max for col 1: (0, 10)\n",
            "min max for col 2: (450, 2000)\n",
            "min max for col 3: (1, 3)\n",
            "mean, std for col 1: (0.26, 0.27999999999999997)\n",
            "mean, std for col 2: (0.33870967741935487, 0.312836707262799)\n",
            "mean, std for col 3: (0.35, 0.39051248379533277)\n",
            "5000 [57.37131434  6.11038803  1.44200443  4.11257825] 5.36036323005416\n",
            "10000 [57.37131434  6.11057948  1.44169584  4.11269953] 5.360385944743458\n",
            "15000 [57.37131434  6.1105795   1.44169581  4.11269955] 5.360385947366511\n",
            "20000 [57.37131434  6.1105795   1.44169581  4.11269955] 5.360385947366807\n",
            "25000 [57.37131434  6.1105795   1.44169581  4.11269955] 5.360385947366807\n",
            "30000 [57.37131434  6.1105795   1.44169581  4.11269955] 5.360385947366807\n",
            "35000 [57.37131434  6.1105795   1.44169581  4.11269955] 5.360385947366807\n",
            "40000 [57.37131434  6.1105795   1.44169581  4.11269955] 5.360385947366807\n",
            "45000 [57.37131434  6.1105795   1.44169581  4.11269955] 5.360385947366807\n",
            "50000 [57.37131434  6.1105795   1.44169581  4.11269955] 5.360385947366807\n"
          ],
          "name": "stdout"
        },
        {
          "output_type": "execute_result",
          "data": {
            "text/plain": [
              "array([57.37131434,  6.1105795 ,  1.44169581,  4.11269955])"
            ]
          },
          "metadata": {
            "tags": []
          },
          "execution_count": 39
        }
      ]
    },
    {
      "cell_type": "markdown",
      "metadata": {
        "id": "OrwPe-FQGsza",
        "colab_type": "text"
      },
      "source": [
        "#  3*. Напишите функцию наподобие eval_model_reg2, но для применения L1-регуляризации."
      ]
    },
    {
      "cell_type": "code",
      "metadata": {
        "id": "MzBQFRTxQbCr",
        "colab_type": "code",
        "colab": {
          "base_uri": "https://localhost:8080/",
          "height": 255
        },
        "outputId": "835c85ce-a23a-48ed-cf55-a1a911eefcaa"
      },
      "source": [
        "# mean absoulute error\n",
        "def calc_mae(y, y_pred):\n",
        "  err = np.mean(np.abs(y - y_pred))\n",
        "  return err\n",
        "\n",
        "# l1 regularization \n",
        "def eval_model_reg1(x, y, iterations, alpha=1e-4, lambda_=1e-8):\n",
        "    np.random.seed(42)\n",
        "    w = np.random.randn(x.shape[0])\n",
        "    for i in range(1, iterations+1):\n",
        "        y_pred = np.dot(w, x)\n",
        "        err = calc_mae(y, y_pred)\n",
        "        w -= alpha * (1/x.shape[1] * 2 * np.dot((y_pred - y), x.T) + lambda_ * w) \n",
        "        if i % (iterations / 10) == 0:\n",
        "            print(i, w, err)\n",
        "\n",
        "    return w\n",
        "\n",
        "#l1 regularization\n",
        "eval_model_reg1(my_stnd(x, [0], verb=False), y, iterations=5000, alpha=1e-2, lambda_=1e-4)"
      ],
      "execution_count": 27,
      "outputs": [
        {
          "output_type": "stream",
          "text": [
            "mean, std for col 1: (2.6, 2.8000000000000003)\n",
            "mean, std for col 2: (975.0, 484.8968962573384)\n",
            "mean, std for col 3: (1.7, 0.7810249675906655)\n",
            "500 [57.39479705  5.10767868  2.46037345  4.08674902] 5.230865862703175\n",
            "1000 [57.39713005  5.765859    1.85689028  4.03893236] 5.313022679533442\n",
            "1500 [57.39713014  5.99060723  1.60529698  4.06885866] 5.340787352738938\n",
            "2000 [57.39713014  6.07152025  1.50155606  4.09300748] 5.350652420826834\n",
            "2500 [57.39713014  6.10185559  1.45905205  4.10572941] 5.354315124768426\n",
            "3000 [57.39713014  6.11355928  1.44170275  4.11160375] 5.355718796049137\n",
            "3500 [57.39713014  6.11816175  1.43463681  4.11416107] 5.35626837356313\n",
            "4000 [57.39713014  6.11999396  1.43176283  4.1152412 ] 5.3564865488163464\n",
            "4500 [57.39713014  6.12072893  1.43059479  4.11568989] 5.3565739181495475\n",
            "5000 [57.39713014  6.12102515  1.4301203   4.11587451] 5.356609093789301\n"
          ],
          "name": "stdout"
        },
        {
          "output_type": "execute_result",
          "data": {
            "text/plain": [
              "array([57.39713014,  6.12102515,  1.4301203 ,  4.11587451])"
            ]
          },
          "metadata": {
            "tags": []
          },
          "execution_count": 27
        }
      ]
    }
  ]
}